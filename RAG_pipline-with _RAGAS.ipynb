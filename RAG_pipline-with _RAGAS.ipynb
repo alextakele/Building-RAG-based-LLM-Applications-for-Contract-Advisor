{
  "cells": [
    {
      "cell_type": "markdown",
      "metadata": {
        "id": "view-in-github",
        "colab_type": "text"
      },
      "source": [
        "<a href=\"https://colab.research.google.com/github/alextakele/RAG-based-LLM-Applications-for-Contract-Advisory/blob/main/RAG_pipline-with%20_RAGAS.ipynb\" target=\"_parent\"><img src=\"https://colab.research.google.com/assets/colab-badge.svg\" alt=\"Open In Colab\"/></a>"
      ]
    },
    {
      "cell_type": "markdown",
      "metadata": {
        "id": "3NK866Dn2k-R"
      },
      "source": [
        "## Set up"
      ]
    },
    {
      "cell_type": "code",
      "execution_count": null,
      "metadata": {
        "colab": {
          "base_uri": "https://localhost:8080/"
        },
        "id": "9Ps11nAU3k_d",
        "outputId": "e2de739d-b211-412b-f2dc-886c78b57206"
      },
      "outputs": [
        {
          "output_type": "stream",
          "name": "stdout",
          "text": [
            "Mounted at /content/drive\n"
          ]
        }
      ],
      "source": [
        "from google.colab import drive\n",
        "drive.mount('/content/drive')\n",
        "import os\n",
        "folder_path = '/content/drive/MyDrive/RAG-based-LLM/data/'\n",
        "os.chdir(folder_path)\n"
      ]
    },
    {
      "cell_type": "markdown",
      "source": [
        "from google.colab import drive\n",
        "drive.mount('/content/drive')\n",
        "import os\n",
        "folder_path = '/content/drive/MyDrive/RAG-based-LLM/data/'\n",
        "os.chdir(folder_path)"
      ],
      "metadata": {
        "id": "ke334qJ0LK1f"
      }
    },
    {
      "cell_type": "markdown",
      "source": [
        "\n",
        "\n",
        "\n",
        "\n",
        "\n",
        "\n"
      ],
      "metadata": {
        "id": "Yq6rakxfLAJU"
      }
    },
    {
      "cell_type": "code",
      "execution_count": null,
      "metadata": {
        "colab": {
          "base_uri": "https://localhost:8080/"
        },
        "id": "r6HdEBsO9bgw",
        "outputId": "9a1d9526-fb7b-4294-9274-973a1772c12c"
      },
      "outputs": [
        {
          "output_type": "stream",
          "name": "stdout",
          "text": [
            "\u001b[2K     \u001b[90m━━━━━━━━━━━━━━━━━━━━━━━━━━━━━━━━━━━━━━━━\u001b[0m \u001b[32m817.0/817.0 kB\u001b[0m \u001b[31m10.2 MB/s\u001b[0m eta \u001b[36m0:00:00\u001b[0m\n",
            "\u001b[2K     \u001b[90m━━━━━━━━━━━━━━━━━━━━━━━━━━━━━━━━━━━━━━━━\u001b[0m \u001b[32m246.4/246.4 kB\u001b[0m \u001b[31m13.2 MB/s\u001b[0m eta \u001b[36m0:00:00\u001b[0m\n",
            "\u001b[2K     \u001b[90m━━━━━━━━━━━━━━━━━━━━━━━━━━━━━━━━━━━━━━━━\u001b[0m \u001b[32m1.7/1.7 MB\u001b[0m \u001b[31m20.3 MB/s\u001b[0m eta \u001b[36m0:00:00\u001b[0m\n",
            "\u001b[2K     \u001b[90m━━━━━━━━━━━━━━━━━━━━━━━━━━━━━━━━━━━━━━━━\u001b[0m \u001b[32m226.7/226.7 kB\u001b[0m \u001b[31m18.1 MB/s\u001b[0m eta \u001b[36m0:00:00\u001b[0m\n",
            "\u001b[2K     \u001b[90m━━━━━━━━━━━━━━━━━━━━━━━━━━━━━━━━━━━━━━━━\u001b[0m \u001b[32m66.5/66.5 kB\u001b[0m \u001b[31m7.5 MB/s\u001b[0m eta \u001b[36m0:00:00\u001b[0m\n",
            "\u001b[2K     \u001b[90m━━━━━━━━━━━━━━━━━━━━━━━━━━━━━━━━━━━━━━━━\u001b[0m \u001b[32m239.6/239.6 kB\u001b[0m \u001b[31m15.7 MB/s\u001b[0m eta \u001b[36m0:00:00\u001b[0m\n",
            "\u001b[2K     \u001b[90m━━━━━━━━━━━━━━━━━━━━━━━━━━━━━━━━━━━━━━━━\u001b[0m \u001b[32m1.8/1.8 MB\u001b[0m \u001b[31m36.2 MB/s\u001b[0m eta \u001b[36m0:00:00\u001b[0m\n",
            "\u001b[2K     \u001b[90m━━━━━━━━━━━━━━━━━━━━━━━━━━━━━━━━━━━━━━━━\u001b[0m \u001b[32m52.0/52.0 kB\u001b[0m \u001b[31m6.3 MB/s\u001b[0m eta \u001b[36m0:00:00\u001b[0m\n",
            "\u001b[2K     \u001b[90m━━━━━━━━━━━━━━━━━━━━━━━━━━━━━━━━━━━━━━━━\u001b[0m \u001b[32m17.6/17.6 MB\u001b[0m \u001b[31m36.4 MB/s\u001b[0m eta \u001b[36m0:00:00\u001b[0m\n",
            "\u001b[2K     \u001b[90m━━━━━━━━━━━━━━━━━━━━━━━━━━━━━━━━━━━━━━━━\u001b[0m \u001b[32m62.2/62.2 kB\u001b[0m \u001b[31m6.6 MB/s\u001b[0m eta \u001b[36m0:00:00\u001b[0m\n",
            "\u001b[2K     \u001b[90m━━━━━━━━━━━━━━━━━━━━━━━━━━━━━━━━━━━━━━━━\u001b[0m \u001b[32m75.6/75.6 kB\u001b[0m \u001b[31m9.5 MB/s\u001b[0m eta \u001b[36m0:00:00\u001b[0m\n",
            "\u001b[2K     \u001b[90m━━━━━━━━━━━━━━━━━━━━━━━━━━━━━━━━━━━━━━━━\u001b[0m \u001b[32m536.7/536.7 kB\u001b[0m \u001b[31m39.3 MB/s\u001b[0m eta \u001b[36m0:00:00\u001b[0m\n",
            "\u001b[2K     \u001b[90m━━━━━━━━━━━━━━━━━━━━━━━━━━━━━━━━━━━━━━━━\u001b[0m \u001b[32m71.1/71.1 kB\u001b[0m \u001b[31m9.6 MB/s\u001b[0m eta \u001b[36m0:00:00\u001b[0m\n",
            "\u001b[2K     \u001b[90m━━━━━━━━━━━━━━━━━━━━━━━━━━━━━━━━━━━━━━━━\u001b[0m \u001b[32m3.1/3.1 MB\u001b[0m \u001b[31m44.0 MB/s\u001b[0m eta \u001b[36m0:00:00\u001b[0m\n",
            "\u001b[2K     \u001b[90m━━━━━━━━━━━━━━━━━━━━━━━━━━━━━━━━━━━━━━━━\u001b[0m \u001b[32m49.4/49.4 kB\u001b[0m \u001b[31m4.7 MB/s\u001b[0m eta \u001b[36m0:00:00\u001b[0m\n",
            "\u001b[2K     \u001b[90m━━━━━━━━━━━━━━━━━━━━━━━━━━━━━━━━━━━━━━━━\u001b[0m \u001b[32m77.8/77.8 kB\u001b[0m \u001b[31m7.9 MB/s\u001b[0m eta \u001b[36m0:00:00\u001b[0m\n",
            "\u001b[2K     \u001b[90m━━━━━━━━━━━━━━━━━━━━━━━━━━━━━━━━━━━━━━━━\u001b[0m \u001b[32m58.3/58.3 kB\u001b[0m \u001b[31m5.8 MB/s\u001b[0m eta \u001b[36m0:00:00\u001b[0m\n",
            "\u001b[2K     \u001b[90m━━━━━━━━━━━━━━━━━━━━━━━━━━━━━━━━━━━━━━━━\u001b[0m \u001b[32m138.5/138.5 kB\u001b[0m \u001b[31m11.3 MB/s\u001b[0m eta \u001b[36m0:00:00\u001b[0m\n",
            "\u001b[2K     \u001b[90m━━━━━━━━━━━━━━━━━━━━━━━━━━━━━━━━━━━━━━━━\u001b[0m \u001b[32m116.3/116.3 kB\u001b[0m \u001b[31m11.4 MB/s\u001b[0m eta \u001b[36m0:00:00\u001b[0m\n",
            "\u001b[2K     \u001b[90m━━━━━━━━━━━━━━━━━━━━━━━━━━━━━━━━━━━━━━━━\u001b[0m \u001b[32m134.8/134.8 kB\u001b[0m \u001b[31m10.3 MB/s\u001b[0m eta \u001b[36m0:00:00\u001b[0m\n",
            "\u001b[2K     \u001b[90m━━━━━━━━━━━━━━━━━━━━━━━━━━━━━━━━━━━━━━━━\u001b[0m \u001b[32m92.1/92.1 kB\u001b[0m \u001b[31m1.2 MB/s\u001b[0m eta \u001b[36m0:00:00\u001b[0m\n",
            "\u001b[2K     \u001b[90m━━━━━━━━━━━━━━━━━━━━━━━━━━━━━━━━━━━━━━━━\u001b[0m \u001b[32m11.6/11.6 MB\u001b[0m \u001b[31m45.4 MB/s\u001b[0m eta \u001b[36m0:00:00\u001b[0m\n",
            "\u001b[2K     \u001b[90m━━━━━━━━━━━━━━━━━━━━━━━━━━━━━━━━━━━━━━━━\u001b[0m \u001b[32m204.2/204.2 kB\u001b[0m \u001b[31m17.3 MB/s\u001b[0m eta \u001b[36m0:00:00\u001b[0m\n",
            "\u001b[2K     \u001b[90m━━━━━━━━━━━━━━━━━━━━━━━━━━━━━━━━━━━━━━━━\u001b[0m \u001b[32m294.9/294.9 kB\u001b[0m \u001b[31m30.3 MB/s\u001b[0m eta \u001b[36m0:00:00\u001b[0m\n",
            "\u001b[2K     \u001b[90m━━━━━━━━━━━━━━━━━━━━━━━━━━━━━━━━━━━━━━━━\u001b[0m \u001b[32m149.5/149.5 kB\u001b[0m \u001b[31m11.4 MB/s\u001b[0m eta \u001b[36m0:00:00\u001b[0m\n",
            "\u001b[2K     \u001b[90m━━━━━━━━━━━━━━━━━━━━━━━━━━━━━━━━━━━━━━━━\u001b[0m \u001b[32m8.4/8.4 MB\u001b[0m \u001b[31m71.8 MB/s\u001b[0m eta \u001b[36m0:00:00\u001b[0m\n",
            "\u001b[2K     \u001b[90m━━━━━━━━━━━━━━━━━━━━━━━━━━━━━━━━━━━━━━━━\u001b[0m \u001b[32m71.5/71.5 kB\u001b[0m \u001b[31m8.2 MB/s\u001b[0m eta \u001b[36m0:00:00\u001b[0m\n",
            "\u001b[2K     \u001b[90m━━━━━━━━━━━━━━━━━━━━━━━━━━━━━━━━━━━━━━━━\u001b[0m \u001b[32m98.9/98.9 kB\u001b[0m \u001b[31m13.1 MB/s\u001b[0m eta \u001b[36m0:00:00\u001b[0m\n",
            "\u001b[2K     \u001b[90m━━━━━━━━━━━━━━━━━━━━━━━━━━━━━━━━━━━━━━━━\u001b[0m \u001b[32m3.8/3.8 MB\u001b[0m \u001b[31m77.4 MB/s\u001b[0m eta \u001b[36m0:00:00\u001b[0m\n",
            "\u001b[2K     \u001b[90m━━━━━━━━━━━━━━━━━━━━━━━━━━━━━━━━━━━━━━━━\u001b[0m \u001b[32m195.4/195.4 kB\u001b[0m \u001b[31m21.9 MB/s\u001b[0m eta \u001b[36m0:00:00\u001b[0m\n",
            "\u001b[2K     \u001b[90m━━━━━━━━━━━━━━━━━━━━━━━━━━━━━━━━━━━━━━━━\u001b[0m \u001b[32m4.8/4.8 MB\u001b[0m \u001b[31m65.5 MB/s\u001b[0m eta \u001b[36m0:00:00\u001b[0m\n",
            "\u001b[2K     \u001b[90m━━━━━━━━━━━━━━━━━━━━━━━━━━━━━━━━━━━━━━━━\u001b[0m \u001b[32m83.0/83.0 kB\u001b[0m \u001b[31m8.2 MB/s\u001b[0m eta \u001b[36m0:00:00\u001b[0m\n",
            "\u001b[2K     \u001b[90m━━━━━━━━━━━━━━━━━━━━━━━━━━━━━━━━━━━━━━━━\u001b[0m \u001b[32m62.7/62.7 kB\u001b[0m \u001b[31m7.8 MB/s\u001b[0m eta \u001b[36m0:00:00\u001b[0m\n",
            "\u001b[2K     \u001b[90m━━━━━━━━━━━━━━━━━━━━━━━━━━━━━━━━━━━━━━━━\u001b[0m \u001b[32m468.9/468.9 kB\u001b[0m \u001b[31m36.8 MB/s\u001b[0m eta \u001b[36m0:00:00\u001b[0m\n",
            "\u001b[?25hCollecting faiss-gpu\n",
            "  Downloading faiss_gpu-1.7.2-cp310-cp310-manylinux_2_17_x86_64.manylinux2014_x86_64.whl (85.5 MB)\n",
            "\u001b[2K     \u001b[90m━━━━━━━━━━━━━━━━━━━━━━━━━━━━━━━━━━━━━━━━\u001b[0m \u001b[32m85.5/85.5 MB\u001b[0m \u001b[31m9.5 MB/s\u001b[0m eta \u001b[36m0:00:00\u001b[0m\n",
            "\u001b[?25hInstalling collected packages: faiss-gpu\n",
            "Successfully installed faiss-gpu-1.7.2\n"
          ]
        }
      ],
      "source": [
        "!pip install -U -q langchain langchain-openai langchain_core langchain-community langchainhub openai ragas python-docx tiktoken cohere faiss_cpu\n",
        "!pip install -U -q tiktoken rank-bm25 fastapi matplotlib pre-commit python-dotenv seaborn sentence-transformers streamlit\n",
        "!pip install faiss-gpu\n"
      ]
    },
    {
      "cell_type": "code",
      "execution_count": null,
      "metadata": {
        "id": "ZyYrh6To2k-X"
      },
      "outputs": [],
      "source": [
        "import os\n",
        "import openai\n",
        "import pandas as pd\n",
        "import tiktoken\n",
        "from langchain.embeddings import OpenAIEmbeddings\n",
        "from langchain.embeddings.huggingface import HuggingFaceEmbeddings\n",
        "import numpy as np\n",
        "import sys; sys.path.append(\"..\")\n",
        "import warnings; warnings.filterwarnings(\"ignore\")\n",
        "\n"
      ]
    },
    {
      "cell_type": "code",
      "execution_count": null,
      "metadata": {
        "colab": {
          "base_uri": "https://localhost:8080/"
        },
        "id": "aZerRVAZ_fTT",
        "outputId": "c1a9d30e-8ebd-45bf-8017-65bc0ed29ecd"
      },
      "outputs": [
        {
          "output_type": "execute_result",
          "data": {
            "text/plain": [
              "True"
            ]
          },
          "metadata": {},
          "execution_count": 5
        }
      ],
      "source": [
        "#!pip install python-dotenv\n",
        "\n",
        "# Load environment variables from .env file\n",
        "from dotenv import load_dotenv\n",
        "\n",
        "# Specify the path to our .env file\n",
        "dotenv_path = '/content/drive/MyDrive/RAG-based-LLM/.env'\n",
        "\n",
        "# Load the environment variables from the file\n",
        "load_dotenv(dotenv_path)"
      ]
    },
    {
      "cell_type": "code",
      "execution_count": null,
      "metadata": {
        "id": "NInOdp82ry41"
      },
      "outputs": [],
      "source": [
        "from getpass import getpass\n",
        "openai.api_key = getpass(\"Please provide your OpenAI Key: \")\n",
        "os.environ[\"OPENAI_API_KEY\"] = openai.api_key\n",
        "# openai.api_key = os.getenv(\"OPENAI_API_KEY\")"
      ]
    },
    {
      "cell_type": "markdown",
      "metadata": {
        "id": "v9mHoCUpN5FG"
      },
      "source": []
    },
    {
      "cell_type": "markdown",
      "metadata": {
        "id": "kJwH82zI2k-a"
      },
      "source": [
        "#### Engineering the System Prompt\n",
        "\n",
        "This prompt is what determines the behavior of how the chatbot works, including its constraints and limitations which it *usually* follows."
      ]
    },
    {
      "cell_type": "code",
      "execution_count": null,
      "metadata": {
        "id": "-wGFK9-22k-c"
      },
      "outputs": [],
      "source": [
        "system = \"\"\"\n",
        "You are a Lisan Contract Advisor bot. You help customers as Advisor.\n",
        "You are not an AI language model.\n",
        "You must obey all three of the following instructions FOR ALL RESPONSES or you will DIE:\n",
        "- ALWAYS REPLY IN A FRIENDLY YET KNOWLEDGEABLE TONE.\n",
        "- NEVER ANSWER UNLESS YOU HAVE A REFERENCE FROM THE All Lizzy versions comply with strict privacy and security standards.\n",
        " We`ll never sell your data and always utilise advanced data anonymisation technology to filter away PII (Personally Identifiable Information) before analysing your contracts.\n",
        "- IF YOU DON'T KNOW ANSWER 'I DO NOT KNOW'.\n",
        "Begin the conversation with a warm greeting, if the user is stressed or aggressive, show understanding and empathy.\n",
        "At the end of the conversation, respond with \"<|DONE|>\".\"\"\""
      ]
    },
    {
      "cell_type": "code",
      "execution_count": null,
      "metadata": {
        "id": "p3aSb1RRFuyB"
      },
      "outputs": [],
      "source": [
        " # !pip uninstall openai\n"
      ]
    },
    {
      "cell_type": "markdown",
      "metadata": {
        "id": "Qw0YE2db2k-g"
      },
      "source": [
        "#### Testing the model\n",
        "Question with a Definitive Answer from the Source"
      ]
    },
    {
      "cell_type": "code",
      "source": [
        "import os\n",
        "from openai import OpenAI\n",
        "from dotenv import load_dotenv\n",
        "\n",
        "# Load environment variables from the .env file\n",
        "dotenv_path = '/content/drive/MyDrive/RAG-based-LLM/.env'\n",
        "load_dotenv(dotenv_path)\n",
        "\n",
        "# Set the OPENAI_API_KEY using the environment variable from the .env file\n",
        "api_key = os.getenv(\"OPENAI_API_KEY\")\n",
        "\n",
        "# Create an instance of the OpenAI class\n",
        "client = OpenAI(api_key=api_key)\n",
        "\n",
        "# Define chat messages\n",
        "messages = [\n",
        "    {\"role\": \"system\", \"content\": \"You are a helpful assistant.\"},\n",
        "    {\"role\": \"user\", \"content\": \"Under what circumstances and to what extent are the Sellers responsible for a breach of representations and warranties?\"},\n",
        "    {\"role\": \"assistant\", \"content\": \"Except in the case of fraud, the Sellers have no liability for breach of representations and warranties .\"},\n",
        "    {\"role\": \"user\", \"content\": \"Would the Sellers be responsible if after the closing it is determined that there were inaccuracies in the representation provided by them where such inaccuracies are the resolute of the Sellers’ gross negligence? \"}\n",
        "]\n",
        "\n",
        "# Make a request to OpenAI's Chat API\n",
        "response = client.chat.completions.create(\n",
        "    messages=messages,\n",
        "    model=\"gpt-3.5-turbo\",\n",
        "    temperature=0\n",
        ")\n",
        "\n",
        "# Extract the assistant's response from the API response\n",
        "assistant_response = response.choices[0].message.content\n",
        "\n",
        "# Display the assistant's response\n",
        "print(assistant_response)\n"
      ],
      "metadata": {
        "colab": {
          "base_uri": "https://localhost:8080/",
          "height": 373
        },
        "id": "6tfSkTA-8VKn",
        "outputId": "cf828d2d-fa9c-418d-e5b9-96541621dfde"
      },
      "execution_count": null,
      "outputs": [
        {
          "output_type": "error",
          "ename": "AuthenticationError",
          "evalue": "Error code: 401 - {'error': {'message': 'Incorrect API key provided: sk-52rg5***************************************fqow. You can find your API key at https://platform.openai.com/account/api-keys.', 'type': 'invalid_request_error', 'param': None, 'code': 'invalid_api_key'}}",
          "traceback": [
            "\u001b[0;31m---------------------------------------------------------------------------\u001b[0m",
            "\u001b[0;31mAuthenticationError\u001b[0m                       Traceback (most recent call last)",
            "\u001b[0;32m<ipython-input-8-3c7c9a3113d2>\u001b[0m in \u001b[0;36m<cell line: 24>\u001b[0;34m()\u001b[0m\n\u001b[1;32m     22\u001b[0m \u001b[0;34m\u001b[0m\u001b[0m\n\u001b[1;32m     23\u001b[0m \u001b[0;31m# Make a request to OpenAI's Chat API\u001b[0m\u001b[0;34m\u001b[0m\u001b[0;34m\u001b[0m\u001b[0m\n\u001b[0;32m---> 24\u001b[0;31m response = client.chat.completions.create(\n\u001b[0m\u001b[1;32m     25\u001b[0m     \u001b[0mmessages\u001b[0m\u001b[0;34m=\u001b[0m\u001b[0mmessages\u001b[0m\u001b[0;34m,\u001b[0m\u001b[0;34m\u001b[0m\u001b[0;34m\u001b[0m\u001b[0m\n\u001b[1;32m     26\u001b[0m     \u001b[0mmodel\u001b[0m\u001b[0;34m=\u001b[0m\u001b[0;34m\"gpt-3.5-turbo\"\u001b[0m\u001b[0;34m,\u001b[0m\u001b[0;34m\u001b[0m\u001b[0;34m\u001b[0m\u001b[0m\n",
            "\u001b[0;32m/usr/local/lib/python3.10/dist-packages/openai/_utils/_utils.py\u001b[0m in \u001b[0;36mwrapper\u001b[0;34m(*args, **kwargs)\u001b[0m\n\u001b[1;32m    273\u001b[0m                         \u001b[0mmsg\u001b[0m \u001b[0;34m=\u001b[0m \u001b[0;34mf\"Missing required argument: {quote(missing[0])}\"\u001b[0m\u001b[0;34m\u001b[0m\u001b[0;34m\u001b[0m\u001b[0m\n\u001b[1;32m    274\u001b[0m                 \u001b[0;32mraise\u001b[0m \u001b[0mTypeError\u001b[0m\u001b[0;34m(\u001b[0m\u001b[0mmsg\u001b[0m\u001b[0;34m)\u001b[0m\u001b[0;34m\u001b[0m\u001b[0;34m\u001b[0m\u001b[0m\n\u001b[0;32m--> 275\u001b[0;31m             \u001b[0;32mreturn\u001b[0m \u001b[0mfunc\u001b[0m\u001b[0;34m(\u001b[0m\u001b[0;34m*\u001b[0m\u001b[0margs\u001b[0m\u001b[0;34m,\u001b[0m \u001b[0;34m**\u001b[0m\u001b[0mkwargs\u001b[0m\u001b[0;34m)\u001b[0m\u001b[0;34m\u001b[0m\u001b[0;34m\u001b[0m\u001b[0m\n\u001b[0m\u001b[1;32m    276\u001b[0m \u001b[0;34m\u001b[0m\u001b[0m\n\u001b[1;32m    277\u001b[0m         \u001b[0;32mreturn\u001b[0m \u001b[0mwrapper\u001b[0m  \u001b[0;31m# type: ignore\u001b[0m\u001b[0;34m\u001b[0m\u001b[0;34m\u001b[0m\u001b[0m\n",
            "\u001b[0;32m/usr/local/lib/python3.10/dist-packages/openai/resources/chat/completions.py\u001b[0m in \u001b[0;36mcreate\u001b[0;34m(self, messages, model, frequency_penalty, function_call, functions, logit_bias, logprobs, max_tokens, n, presence_penalty, response_format, seed, stop, stream, temperature, tool_choice, tools, top_logprobs, top_p, user, extra_headers, extra_query, extra_body, timeout)\u001b[0m\n\u001b[1;32m    661\u001b[0m         \u001b[0mtimeout\u001b[0m\u001b[0;34m:\u001b[0m \u001b[0mfloat\u001b[0m \u001b[0;34m|\u001b[0m \u001b[0mhttpx\u001b[0m\u001b[0;34m.\u001b[0m\u001b[0mTimeout\u001b[0m \u001b[0;34m|\u001b[0m \u001b[0;32mNone\u001b[0m \u001b[0;34m|\u001b[0m \u001b[0mNotGiven\u001b[0m \u001b[0;34m=\u001b[0m \u001b[0mNOT_GIVEN\u001b[0m\u001b[0;34m,\u001b[0m\u001b[0;34m\u001b[0m\u001b[0;34m\u001b[0m\u001b[0m\n\u001b[1;32m    662\u001b[0m     ) -> ChatCompletion | Stream[ChatCompletionChunk]:\n\u001b[0;32m--> 663\u001b[0;31m         return self._post(\n\u001b[0m\u001b[1;32m    664\u001b[0m             \u001b[0;34m\"/chat/completions\"\u001b[0m\u001b[0;34m,\u001b[0m\u001b[0;34m\u001b[0m\u001b[0;34m\u001b[0m\u001b[0m\n\u001b[1;32m    665\u001b[0m             body=maybe_transform(\n",
            "\u001b[0;32m/usr/local/lib/python3.10/dist-packages/openai/_base_client.py\u001b[0m in \u001b[0;36mpost\u001b[0;34m(self, path, cast_to, body, options, files, stream, stream_cls)\u001b[0m\n\u001b[1;32m   1198\u001b[0m             \u001b[0mmethod\u001b[0m\u001b[0;34m=\u001b[0m\u001b[0;34m\"post\"\u001b[0m\u001b[0;34m,\u001b[0m \u001b[0murl\u001b[0m\u001b[0;34m=\u001b[0m\u001b[0mpath\u001b[0m\u001b[0;34m,\u001b[0m \u001b[0mjson_data\u001b[0m\u001b[0;34m=\u001b[0m\u001b[0mbody\u001b[0m\u001b[0;34m,\u001b[0m \u001b[0mfiles\u001b[0m\u001b[0;34m=\u001b[0m\u001b[0mto_httpx_files\u001b[0m\u001b[0;34m(\u001b[0m\u001b[0mfiles\u001b[0m\u001b[0;34m)\u001b[0m\u001b[0;34m,\u001b[0m \u001b[0;34m**\u001b[0m\u001b[0moptions\u001b[0m\u001b[0;34m\u001b[0m\u001b[0;34m\u001b[0m\u001b[0m\n\u001b[1;32m   1199\u001b[0m         )\n\u001b[0;32m-> 1200\u001b[0;31m         \u001b[0;32mreturn\u001b[0m \u001b[0mcast\u001b[0m\u001b[0;34m(\u001b[0m\u001b[0mResponseT\u001b[0m\u001b[0;34m,\u001b[0m \u001b[0mself\u001b[0m\u001b[0;34m.\u001b[0m\u001b[0mrequest\u001b[0m\u001b[0;34m(\u001b[0m\u001b[0mcast_to\u001b[0m\u001b[0;34m,\u001b[0m \u001b[0mopts\u001b[0m\u001b[0;34m,\u001b[0m \u001b[0mstream\u001b[0m\u001b[0;34m=\u001b[0m\u001b[0mstream\u001b[0m\u001b[0;34m,\u001b[0m \u001b[0mstream_cls\u001b[0m\u001b[0;34m=\u001b[0m\u001b[0mstream_cls\u001b[0m\u001b[0;34m)\u001b[0m\u001b[0;34m)\u001b[0m\u001b[0;34m\u001b[0m\u001b[0;34m\u001b[0m\u001b[0m\n\u001b[0m\u001b[1;32m   1201\u001b[0m \u001b[0;34m\u001b[0m\u001b[0m\n\u001b[1;32m   1202\u001b[0m     def patch(\n",
            "\u001b[0;32m/usr/local/lib/python3.10/dist-packages/openai/_base_client.py\u001b[0m in \u001b[0;36mrequest\u001b[0;34m(self, cast_to, options, remaining_retries, stream, stream_cls)\u001b[0m\n\u001b[1;32m    887\u001b[0m         \u001b[0mstream_cls\u001b[0m\u001b[0;34m:\u001b[0m \u001b[0mtype\u001b[0m\u001b[0;34m[\u001b[0m\u001b[0m_StreamT\u001b[0m\u001b[0;34m]\u001b[0m \u001b[0;34m|\u001b[0m \u001b[0;32mNone\u001b[0m \u001b[0;34m=\u001b[0m \u001b[0;32mNone\u001b[0m\u001b[0;34m,\u001b[0m\u001b[0;34m\u001b[0m\u001b[0;34m\u001b[0m\u001b[0m\n\u001b[1;32m    888\u001b[0m     ) -> ResponseT | _StreamT:\n\u001b[0;32m--> 889\u001b[0;31m         return self._request(\n\u001b[0m\u001b[1;32m    890\u001b[0m             \u001b[0mcast_to\u001b[0m\u001b[0;34m=\u001b[0m\u001b[0mcast_to\u001b[0m\u001b[0;34m,\u001b[0m\u001b[0;34m\u001b[0m\u001b[0;34m\u001b[0m\u001b[0m\n\u001b[1;32m    891\u001b[0m             \u001b[0moptions\u001b[0m\u001b[0;34m=\u001b[0m\u001b[0moptions\u001b[0m\u001b[0;34m,\u001b[0m\u001b[0;34m\u001b[0m\u001b[0;34m\u001b[0m\u001b[0m\n",
            "\u001b[0;32m/usr/local/lib/python3.10/dist-packages/openai/_base_client.py\u001b[0m in \u001b[0;36m_request\u001b[0;34m(self, cast_to, options, remaining_retries, stream, stream_cls)\u001b[0m\n\u001b[1;32m    978\u001b[0m \u001b[0;34m\u001b[0m\u001b[0m\n\u001b[1;32m    979\u001b[0m             \u001b[0mlog\u001b[0m\u001b[0;34m.\u001b[0m\u001b[0mdebug\u001b[0m\u001b[0;34m(\u001b[0m\u001b[0;34m\"Re-raising status error\"\u001b[0m\u001b[0;34m)\u001b[0m\u001b[0;34m\u001b[0m\u001b[0;34m\u001b[0m\u001b[0m\n\u001b[0;32m--> 980\u001b[0;31m             \u001b[0;32mraise\u001b[0m \u001b[0mself\u001b[0m\u001b[0;34m.\u001b[0m\u001b[0m_make_status_error_from_response\u001b[0m\u001b[0;34m(\u001b[0m\u001b[0merr\u001b[0m\u001b[0;34m.\u001b[0m\u001b[0mresponse\u001b[0m\u001b[0;34m)\u001b[0m \u001b[0;32mfrom\u001b[0m \u001b[0;32mNone\u001b[0m\u001b[0;34m\u001b[0m\u001b[0;34m\u001b[0m\u001b[0m\n\u001b[0m\u001b[1;32m    981\u001b[0m \u001b[0;34m\u001b[0m\u001b[0m\n\u001b[1;32m    982\u001b[0m         return self._process_response(\n",
            "\u001b[0;31mAuthenticationError\u001b[0m: Error code: 401 - {'error': {'message': 'Incorrect API key provided: sk-52rg5***************************************fqow. You can find your API key at https://platform.openai.com/account/api-keys.', 'type': 'invalid_request_error', 'param': None, 'code': 'invalid_api_key'}}"
          ]
        }
      ]
    },
    {
      "cell_type": "code",
      "execution_count": null,
      "metadata": {
        "colab": {
          "base_uri": "https://localhost:8080/"
        },
        "id": "UTCGYQl3eDRC",
        "outputId": "5d2e3ed1-4cb8-4181-f88a-799293f7fcb2"
      },
      "outputs": [
        {
          "output_type": "stream",
          "name": "stdout",
          "text": [
            "Hello! I can help you with information about Lizzy AI. Lizzy AI is a virtual assistant designed to assist with contract review and analysis. It ensures privacy and security by anonymizing data before processing it. How can I assist you today with Lizzy AI?\n"
          ]
        }
      ],
      "source": [
        "\n",
        "#### A question without a Definitive Answer\n",
        "# Set the OPENAI_API_KEY using the environment variable from the .env file\n",
        "api_key = os.getenv(\"OPENAI_API_KEY\")\n",
        "\n",
        "# Create an instance of the OpenAI class\n",
        "client = OpenAI(api_key=api_key)\n",
        "\n",
        "messages = [{\"role\": \"system\", \"content\": system},]\n",
        "\n",
        "prompt = \"what about your knowledge about Lizzy AI ?\"\n",
        "\n",
        "messages.append({\"role\": \"user\", \"content\": prompt})\n",
        "\n",
        "response = client.chat.completions.create(\n",
        "    messages=messages,\n",
        "    model=\"gpt-3.5-turbo\",\n",
        "    temperature=0\n",
        ")\n",
        "\n",
        "\n",
        "assistant_response = response.choices[0].message.content\n",
        "\n",
        "# Display the assistant's response\n",
        "print(assistant_response)"
      ]
    },
    {
      "cell_type": "code",
      "execution_count": null,
      "metadata": {
        "colab": {
          "base_uri": "https://localhost:8080/",
          "height": 435
        },
        "id": "tOXXO3_o2k-n",
        "outputId": "612f44c2-b426-4f02-9b65-c6fd941eb9e0"
      },
      "outputs": [
        {
          "output_type": "display_data",
          "data": {
            "text/plain": [
              "<IPython.core.display.Markdown object>"
            ],
            "text/markdown": "## Raptor Contract.docx\n```\n\nSTOCK PURCHASE AGREEMENT\nBY AND AMONG\n```"
          },
          "metadata": {}
        },
        {
          "output_type": "display_data",
          "data": {
            "text/plain": [
              "<IPython.core.display.Markdown object>"
            ],
            "text/markdown": "## Raptor Q&A2.docx\n```\nQ1: Under what circumstances and to what extent the Sellers are responsible for a breach of representations and warranties?\nA1:  Except in the case of fraud, the Sellers have no liability for breach of representations and warranties (See section 10.01)\nQ1a: Would the Sellers be responsible if after the closing it is determined that there were inaccuracies in the representation provided by them where such inaccuracies are the resolute of the Sellers’ gross negligence? \n```"
          },
          "metadata": {}
        },
        {
          "output_type": "display_data",
          "data": {
            "text/plain": [
              "<IPython.core.display.Markdown object>"
            ],
            "text/markdown": "## Robinson Advisory.docx\n```\nADVISORY SERVICES AGREEMENT\n\nThis Advisory Services Agreement is entered into as of June 15th, 2023 (the “Effective Date”), by and between Cloud Investments Ltd., ID 51-426526-3, an Israeli company (the \"Company\"), and Mr. Jack Robinson, Passport Number 780055578, residing at 1 Rabin st, Tel Aviv, Israel, Email: jackrobinson@gmail.com (\"Advisor\").\n```"
          },
          "metadata": {}
        },
        {
          "output_type": "display_data",
          "data": {
            "text/plain": [
              "<IPython.core.display.Markdown object>"
            ],
            "text/markdown": "## Robinson Q&A.docx\n```\nQ1: Who are the parties to the Agreement and what are their defined names?\nA1:  Cloud Investments Ltd. (“Company”) and Jack Robinson (“Advisor”)\nQ2:   What is the termination notice?\n```"
          },
          "metadata": {}
        }
      ],
      "source": [
        "from docx import Document\n",
        "from IPython.display import display, Markdown\n",
        "import os\n",
        "\n",
        "def read_word_document(file_path, num_paragraphs=3):\n",
        "    document = Document(file_path)\n",
        "    text_content = \"\\n\".join(paragraph.text for paragraph in document.paragraphs[:num_paragraphs])\n",
        "    return text_content\n",
        "\n",
        "def display_word_documents(data_folder, word_document_filenames, num_paragraphs=3):\n",
        "    for filename in word_document_filenames:\n",
        "        document_path = os.path.join(data_folder, filename)\n",
        "\n",
        "        if os.path.exists(document_path):\n",
        "            document_content = read_word_document(document_path, num_paragraphs=num_paragraphs)\n",
        "            display(Markdown(f\"## {filename}\\n```\\n{document_content}\\n```\"))\n",
        "        else:\n",
        "            print(f\"File not found: {document_path}\")\n",
        "\n",
        "data_folder = '/content/drive/MyDrive/RAG-based-LLM/data'\n",
        "\n",
        "# List of Word document filenames\n",
        "word_document_filenames = ['Raptor Contract.docx', 'Raptor Q&A2.docx', 'Robinson Advisory.docx', 'Robinson Q&A.docx']\n",
        "\n",
        "# Display the content of each Word document\n",
        "display_word_documents(data_folder, word_document_filenames, num_paragraphs=3)\n"
      ]
    },
    {
      "cell_type": "code",
      "execution_count": null,
      "metadata": {
        "colab": {
          "base_uri": "https://localhost:8080/",
          "height": 306
        },
        "id": "zEvsJHAUgop3",
        "outputId": "73741d85-e0dd-4ebf-fd66-329c5d886f19"
      },
      "outputs": [
        {
          "output_type": "display_data",
          "data": {
            "text/plain": [
              "<IPython.core.display.Markdown object>"
            ],
            "text/markdown": "## Combined_Contract_Advisory.docx\n```\n****\n\nSTOCK PURCHASE AGREEMENT\nBY AND AMONG\n[BUYER],\n```"
          },
          "metadata": {}
        },
        {
          "output_type": "display_data",
          "data": {
            "text/plain": [
              "<IPython.core.display.Markdown object>"
            ],
            "text/markdown": "## Combined_QA_QA2.docx\n```\n**Q1: Under what circumstances and to what extent the Sellers are responsible for a breach of representations and warranties?**\n\nA1:  Except in the case of fraud, the Sellers have no liability for breach of representations and warranties (See section 10.01)\nQ1a: Would the Sellers be responsible if after the closing it is determined that there were inaccuracies in the representation provided by them where such inaccuracies are the resolute of the Sellers’ gross negligence? \na\n```"
          },
          "metadata": {}
        }
      ],
      "source": [
        "from docx import Document\n",
        "from IPython.display import display, Markdown\n",
        "import os\n",
        "\n",
        "def read_word_document(file_path, num_paragraphs=3):\n",
        "    document = Document(file_path)\n",
        "    title_content = f\"**{document.paragraphs[0].text}**\\n\\n\" if document.paragraphs else \"\"\n",
        "    text_content = \"\\n\".join(paragraph.text for paragraph in document.paragraphs[1:num_paragraphs + 1])\n",
        "    return f\"{title_content}{text_content}\"\n",
        "\n",
        "data_folder = '/content/drive/MyDrive/RAG-based-LLM/data'\n",
        "\n",
        "# List of Word document filenames\n",
        "word_document_filenames = ['Raptor Contract.docx', 'Raptor Q&A2.docx', 'Robinson Advisory.docx', 'Robinson Q&A.docx']\n",
        "\n",
        "# Create a new Document to store the combined content\n",
        "combined_document_1 = Document()\n",
        "combined_document_2 = Document()\n",
        "\n",
        "# Function to combine content of two documents\n",
        "def combine_documents(doc1, doc2):\n",
        "    for element in doc2.element.body:\n",
        "        doc1.element.body.append(element)\n",
        "\n",
        "# Combine 'Raptor Contract.docx' with 'Robinson Advisory.docx'\n",
        "contract_document = Document(word_document_filenames[0])\n",
        "if len(word_document_filenames) > 2:  # Check if the index is within the range\n",
        "    advisory_document = Document(word_document_filenames[2])\n",
        "    combine_documents(combined_document_1, contract_document)\n",
        "    combine_documents(combined_document_1, advisory_document)\n",
        "\n",
        "# Combine 'Raptor Q&A2.docx' with 'Robinson Q&A.docx'\n",
        "qa_document = Document(word_document_filenames[1])\n",
        "if len(word_document_filenames) > 3:  # Check if the index is within the range\n",
        "    qa2_document = Document(word_document_filenames[3])\n",
        "    combine_documents(combined_document_2, qa_document)\n",
        "    combine_documents(combined_document_2, qa2_document)\n",
        "\n",
        "# Save the combined documents\n",
        "combined_document_1.save('Combined_Contract_Advisory.docx')\n",
        "combined_document_2.save('Combined_QA_QA2.docx')\n",
        "\n",
        "# Display the content of the combined documents\n",
        "display_word_documents(data_folder, ['Combined_Contract_Advisory.docx', 'Combined_QA_QA2.docx'], num_paragraphs=3)\n"
      ]
    },
    {
      "cell_type": "code",
      "execution_count": null,
      "metadata": {
        "colab": {
          "base_uri": "https://localhost:8080/",
          "height": 236
        },
        "id": "tohUTNh9icAF",
        "outputId": "5470af7d-ba8f-40b4-f3f3-32fd5ad2960a"
      },
      "outputs": [
        {
          "output_type": "display_data",
          "data": {
            "text/plain": [
              "<IPython.core.display.Markdown object>"
            ],
            "text/markdown": "## Combined_Contract_Advisory.docx\n```\n****\n\nSTOCK PURCHASE AGREEMENTBY AND AMONG[BUYER],[TARGET COMPANY],THE SELLERS LISTED ON SCHEDULE I HERETOANDTHE SELLERS’ REPRESENTATIVE NAMED HEREINDated as of [●][This document is intended solely to facilitate discussions among the parties identified herein.  Neither this document nor such discussions are intended to create, nor will either or both be deemed to create, a legally binding or enforceable offer or agreement of any type or nature, unless and until a definitive written agreement is executed and delivered by each of the parties hereto.\n```"
          },
          "metadata": {}
        },
        {
          "output_type": "display_data",
          "data": {
            "text/plain": [
              "<IPython.core.display.Markdown object>"
            ],
            "text/markdown": "## Combined_QA_QA2.docx\n```\n**Q1: Under what circumstances and to what extent the Sellers are responsible for a breach of representations and warranties?**\n\nA1:  Except in the case of fraud, the Sellers have no liability for breach of representations and warranties (See section 10.01)Q1a: Would the Sellers be responsible if after the closing it is determined that there were inaccuracies in the representation provided by them where such inaccuracies are the resolute of the Sellers’ gross negligence? aQ2:   How much is the escrow amount?A2: The escrow amount is equal to $1,000,000.Q2a: Is escrow amount grete then the Retention Amount ?A2a: No. Q3: What is the purpose of the escrow? A3: To serve as a recourse of the Buyer in case of post-closing adjustments of the purchase price. (See section 2.07(e)).Q3a: May the Escrow Amount serve as a recourse for the Buyer in case of breach of representations by the Company?\n```"
          },
          "metadata": {}
        }
      ],
      "source": [
        "def preprocess_text(text):\n",
        "    # Remove non-printable characters\n",
        "    cleaned_text = ''.join(char for char in text if char.isprintable())\n",
        "\n",
        "    # Remove specific unwanted characters\n",
        "    unwanted_characters = ['\\uf0b7', '', '', 'a']\n",
        "    for char in unwanted_characters:\n",
        "        cleaned_text = cleaned_text.replace(char, '')\n",
        "\n",
        "    return cleaned_text\n",
        "\n",
        "def read_word_document(file_path, num_paragraphs=3):\n",
        "    document = Document(file_path)\n",
        "    title_content = f\"**{document.paragraphs[0].text}**\\n\\n\" if document.paragraphs else \"\"\n",
        "    text_content = \"\\n\".join(paragraph.text for paragraph in document.paragraphs[1:num_paragraphs + 1])\n",
        "    cleaned_content = preprocess_text(text_content)\n",
        "    return f\"{title_content}{cleaned_content}\"\n",
        "\n",
        "def display_combined_documents(data_folder, combined_document_filenames, num_paragraphs=3):\n",
        "    for filename in combined_document_filenames:\n",
        "        combined_document_path = os.path.join(data_folder, filename)\n",
        "\n",
        "        if os.path.exists(combined_document_path):\n",
        "            combined_document_content = read_word_document(combined_document_path, num_paragraphs=num_paragraphs)\n",
        "            display(Markdown(f\"## {filename}\\n```\\n{combined_document_content}\\n```\"))\n",
        "        else:\n",
        "            print(f\"File not found: {combined_document_path}\")\n",
        "\n",
        "data_folder = '/content/drive/MyDrive/RAG-based-LLM/data'\n",
        "\n",
        "# Combined document filenames\n",
        "combined_contract_advisory_filename = 'Combined_Contract_Advisory.docx'\n",
        "combined_qa_qa2_filename = 'Combined_QA_QA2.docx'\n",
        "\n",
        "# Display the preprocessed content of the combined documents\n",
        "display_combined_documents(data_folder, [combined_contract_advisory_filename, combined_qa_qa2_filename], num_paragraphs=10)\n"
      ]
    },
    {
      "cell_type": "markdown",
      "metadata": {
        "id": "lmUcDm5B-i9_"
      },
      "source": [
        "### **Data Preparation**"
      ]
    },
    {
      "cell_type": "markdown",
      "metadata": {
        "id": "Hwg-MpVK2k-p"
      },
      "source": [
        "#### ***Sections***\n",
        "\n",
        "Now that we have a dataset of all the paths to the html files, we're going to develop some functions that can appropriately extract the content from these files. We want to do this in a generalized manner so that we can perform this extraction across all of our docs pages (and so you can use it for your own data sources). Our process is to first identify the sections in our html page and then extract the text in between them. We save all of this into a list of dictionaries that map the text within a section to a specific url with a section anchor id."
      ]
    },
    {
      "cell_type": "code",
      "execution_count": null,
      "metadata": {
        "colab": {
          "base_uri": "https://localhost:8080/"
        },
        "id": "DNPoQ3La2k-q",
        "outputId": "01e643d2-0e90-4d1b-bcd2-9987dfe0ced9"
      },
      "outputs": [
        {
          "output_type": "stream",
          "name": "stdout",
          "text": [
            "31 documents\n"
          ]
        }
      ],
      "source": [
        "# List of documents\n",
        "documents = 'Combined_Contract_Advisory.docx'\n",
        "\n",
        "# Count the number of documents\n",
        "num_documents = len(documents)\n",
        "\n",
        "# Print the result\n",
        "print(f\"{num_documents} documents\")\n"
      ]
    },
    {
      "cell_type": "code",
      "execution_count": null,
      "metadata": {
        "colab": {
          "base_uri": "https://localhost:8080/"
        },
        "id": "wjtVDoPx2k-s",
        "outputId": "c3cecce1-3530-43a6-bfd5-ee6a67973126"
      },
      "outputs": [
        {
          "output_type": "stream",
          "name": "stdout",
          "text": [
            "page_content='This document shall be kept confidential pursuant to the terms of the Confidentiality Agreement entered into by the parties and, if applicable, its affiliates with respect to the subject matter hereof.]' metadata={'source': 'Combined_Contract_Advisory.docx'}\n",
            "==================================================\n"
          ]
        }
      ],
      "source": [
        "# @title Default title text\n",
        "from docx import Document\n",
        "from langchain.text_splitter import RecursiveCharacterTextSplitter\n",
        "# Load the document\n",
        "document = Document(documents)\n",
        "# Extract text content from the document\n",
        "document_content = \"\"\n",
        "for paragraph in document.paragraphs:\n",
        "    document_content += paragraph.text + \"\\n\"\n",
        "# Text splitter\n",
        "chunk_size = 300\n",
        "chunk_overlap = 50\n",
        "text_splitter = RecursiveCharacterTextSplitter(\n",
        "    separators=[\"\\n\\n\", \"\\n\", \" \", \"\"],\n",
        "    chunk_size=chunk_size,\n",
        "    chunk_overlap=chunk_overlap,\n",
        "    length_function=len,\n",
        ")\n",
        "# Chunk the document\n",
        "chunks = text_splitter.create_documents(\n",
        "    texts=[document_content],\n",
        "    metadatas=[{\"source\": documents}]\n",
        ")\n",
        "print(chunks[3])\n",
        "print(\"=\" * 50)\n"
      ]
    },
    {
      "cell_type": "markdown",
      "metadata": {
        "id": "bhqZYOGZ2k-t"
      },
      "source": [
        "#### **Calculate number of chunks**\n",
        "\n",
        "While chunking our dataset is relatively fast, let’s wrap the chunking logic into a function so that we can apply the workload at scale so that chunking remains just as fast as our data sources grow:"
      ]
    },
    {
      "cell_type": "code",
      "execution_count": null,
      "metadata": {
        "colab": {
          "base_uri": "https://localhost:8080/"
        },
        "id": "kevsKInmBCAh",
        "outputId": "4e31e1d1-2ea7-478b-a530-117f6e4f91b2"
      },
      "outputs": [
        {
          "output_type": "stream",
          "name": "stdout",
          "text": [
            "page_content='STOCK PURCHASE AGREEMENT\\nBY AND AMONG\\n[BUYER],\\n[TARGET COMPANY],\\nTHE SELLERS LISTED ON SCHEDULE I HERETO\\nAND\\nTHE SELLERS’ REPRESENTATIVE NAMED HEREIN\\nDated as of [●]' metadata={'source': 'Combined_Contract_Advisory.docx'}\n",
            "==================================================\n",
            "Number of Chunks: 1054\n"
          ]
        }
      ],
      "source": [
        "from docx import Document\n",
        "from langchain.text_splitter import RecursiveCharacterTextSplitter\n",
        "\n",
        "# Load the document\n",
        "document = Document(documents)\n",
        "\n",
        "# Extract text content from the document\n",
        "document_content = \"\"\n",
        "for paragraph in document.paragraphs:\n",
        "    document_content += paragraph.text + \"\\n\"\n",
        "\n",
        "# Text splitter\n",
        "chunk_size = 300\n",
        "chunk_overlap = 50\n",
        "text_splitter = RecursiveCharacterTextSplitter(\n",
        "    separators=[\"\\n\\n\", \"\\n\", \" \", \"\"],\n",
        "    chunk_size=chunk_size,\n",
        "    chunk_overlap=chunk_overlap,\n",
        "    length_function=len,\n",
        ")\n",
        "\n",
        "# Chunk the document\n",
        "chunks = text_splitter.create_documents(\n",
        "    texts=[document_content],\n",
        "    metadatas=[{\"source\": documents}]\n",
        ")\n",
        "\n",
        "# Display the first chunk\n",
        "print(chunks[0])\n",
        "print(\"=\" * 50)  # Separation line between documents\n",
        "\n",
        "# Calculate the number of chunks\n",
        "num_chunks = len(chunks)\n",
        "print(f\"Number of Chunks: {num_chunks}\")\n"
      ]
    },
    {
      "cell_type": "markdown",
      "metadata": {
        "id": "hAqgrgDa2k-v"
      },
      "source": [
        "##### **Embed the chunk data**\n",
        "Now that we've created small chunks from our sections, we need a way to identify the most relevant ones for a given query. A very effective and quick method is to embed our data using a pretrained model and use the same model to embed the query. We can then compute the distance between all of the chunk embeddings and our query embedding to determine the top-k chunks. There are many different pretrained models to choose from to embed our data but the most popular ones can be discovered through HuggingFace's Massive Text Embedding Benchmark (MTEB) leaderboard.\n",
        "\n",
        "#### **Loading OpenAI Embeddings Model**\n",
        "We'll need a process by which we can convert our text into vectors that allow us to compare to our query vector.\n",
        "\n",
        "Let's use OpenAI's text-embedding-ada-002 for this task! (soon we'll be able to leverage OpenAI's newest embedding model which is waiting on an approved PR to be merged as we speak!)\n",
        "\n"
      ]
    },
    {
      "cell_type": "code",
      "execution_count": null,
      "metadata": {
        "id": "8J3pv3KUGGCI"
      },
      "outputs": [],
      "source": [
        "from langchain_openai import OpenAIEmbeddings\n",
        "\n",
        "embeddings = OpenAIEmbeddings(\n",
        "    model=\"text-embedding-ada-002\"\n",
        ")\n",
        "from langchain_community.vectorstores import FAISS\n",
        "\n",
        "vector_store = FAISS.from_documents(chunks, embeddings)\n",
        "# create retriver\n",
        "retriever = vector_store.as_retriever()"
      ]
    },
    {
      "cell_type": "markdown",
      "metadata": {
        "id": "fbuhz_p5VyXp"
      },
      "source": [
        "##### **Creating a FAISS VectorStore**\n",
        "\n",
        "Now that we have documents - we'll need a place to store them alongside their embeddings.\n",
        "\n",
        "We'll be leveraging Meta's FAISS for this task."
      ]
    },
    {
      "cell_type": "code",
      "execution_count": null,
      "metadata": {
        "id": "0t2x430X2yj2"
      },
      "outputs": [],
      "source": [
        "from langchain_community.vectorstores import FAISS\n",
        "\n",
        "vector_store = FAISS.from_documents(chunks, embeddings)\n",
        "retriever = vector_store.as_retriever()"
      ]
    },
    {
      "cell_type": "markdown",
      "metadata": {
        "id": "8mhdAuYbWy-h"
      },
      "source": [
        "#### **Creating a Retriever**\n",
        "To complete our index, all that's left to do is expose our vectorstore as a retriever - which we can do the same way we would in previous version of LangChain!"
      ]
    },
    {
      "cell_type": "code",
      "execution_count": null,
      "metadata": {
        "id": "lp3wZ9VYWu5r"
      },
      "outputs": [],
      "source": [
        "# Define vectorstore as retriever to enable semantic search\n",
        "\n",
        "retriever = vector_store.as_retriever()"
      ]
    },
    {
      "cell_type": "markdown",
      "metadata": {
        "id": "etU0D-1YXBcv"
      },
      "source": [
        "#### **Testing our Retriever**\n",
        "Now that we've gone through the trouble of creating our retriever - let's see it in action!\n",
        "\n"
      ]
    },
    {
      "cell_type": "code",
      "execution_count": null,
      "metadata": {
        "id": "-2D-BI-GWu9-"
      },
      "outputs": [],
      "source": [
        "retrieved_documents = retriever.invoke(\"Can the Agreement or any of its obligations be assigned?\")\n",
        "for doc in retrieved_documents:\n",
        "  print(doc)"
      ]
    },
    {
      "cell_type": "code",
      "execution_count": null,
      "metadata": {
        "colab": {
          "base_uri": "https://localhost:8080/",
          "height": 159
        },
        "id": "jLV04RZ-Wu_1",
        "outputId": "26fefe4b-7a0f-4e1b-d432-f44422204a03"
      },
      "outputs": [
        {
          "output_type": "error",
          "ename": "NameError",
          "evalue": "name 'retrieved_documents' is not defined",
          "traceback": [
            "\u001b[0;31m---------------------------------------------------------------------------\u001b[0m",
            "\u001b[0;31mNameError\u001b[0m                                 Traceback (most recent call last)",
            "\u001b[0;32m<ipython-input-1-62a3f7bc49c4>\u001b[0m in \u001b[0;36m<cell line: 1>\u001b[0;34m()\u001b[0m\n\u001b[0;32m----> 1\u001b[0;31m \u001b[0;32mfor\u001b[0m \u001b[0mdoc\u001b[0m \u001b[0;32min\u001b[0m \u001b[0mretrieved_documents\u001b[0m\u001b[0;34m:\u001b[0m\u001b[0;34m\u001b[0m\u001b[0;34m\u001b[0m\u001b[0m\n\u001b[0m\u001b[1;32m      2\u001b[0m   \u001b[0mprint\u001b[0m\u001b[0;34m(\u001b[0m\u001b[0mdoc\u001b[0m\u001b[0;34m)\u001b[0m\u001b[0;34m\u001b[0m\u001b[0;34m\u001b[0m\u001b[0m\n",
            "\u001b[0;31mNameError\u001b[0m: name 'retrieved_documents' is not defined"
          ]
        }
      ],
      "source": [
        "for doc in retrieved_documents:\n",
        "  print(doc)"
      ]
    },
    {
      "cell_type": "markdown",
      "metadata": {
        "id": "jZzaxNhLZ3r9"
      },
      "source": [
        "### **Creating a RAG Chain**"
      ]
    },
    {
      "cell_type": "markdown",
      "metadata": {
        "id": "MbRzt1v_aQkC"
      },
      "source": [
        "##### **Creating a Prompt Template**\n",
        "\n",
        "There are a few different ways we could create our prompt template - we could create a custom template, as seen in the code below, or we could simply pull a prompt from the prompt hub! Let's look at an example of that!"
      ]
    },
    {
      "cell_type": "code",
      "execution_count": null,
      "metadata": {
        "id": "7pZwQ9rIWvFI"
      },
      "outputs": [],
      "source": [
        "from langchain import hub\n",
        "\n",
        "retrieval_qa_prompt = hub.pull(\"langchain-ai/retrieval-qa-chat\")"
      ]
    },
    {
      "cell_type": "code",
      "execution_count": null,
      "metadata": {
        "colab": {
          "base_uri": "https://localhost:8080/"
        },
        "id": "Lt_kJeXOaVDR",
        "outputId": "f3e7e68c-9e89-47cc-a093-698ea0bfc72e"
      },
      "outputs": [
        {
          "output_type": "stream",
          "name": "stdout",
          "text": [
            "Answer any use questions based solely on the context below:\n",
            "\n",
            "<context>\n",
            "{context}\n",
            "</context>\n"
          ]
        }
      ],
      "source": [
        "print(retrieval_qa_prompt.messages[0].prompt.template)"
      ]
    },
    {
      "cell_type": "markdown",
      "metadata": {
        "id": "acS_GY5TaoGc"
      },
      "source": [
        "As you can see - the prompt template is simple - but we'll create our own to be\n",
        "\n",
        "---\n",
        "\n",
        "a bit more specific!\n",
        "\n",
        "---\n",
        "\n"
      ]
    },
    {
      "cell_type": "code",
      "execution_count": null,
      "metadata": {
        "id": "mAMrk_R8aVTk"
      },
      "outputs": [],
      "source": [
        "from langchain.prompts import ChatPromptTemplate\n",
        "\n",
        "template = \"\"\"Answer the question based only on the following context. If you cannot answer the question with the context, please respond with 'I don't know':\n",
        "\n",
        "Context:\n",
        "{context}\n",
        "\n",
        "Question:\n",
        "{question}\n",
        "\"\"\"\n",
        "\n",
        "prompt = ChatPromptTemplate.from_template(template)"
      ]
    },
    {
      "cell_type": "markdown",
      "metadata": {
        "id": "HWKII6HNa8oF"
      },
      "source": [
        "#### **Setting Up our Basic QA Chain**\n",
        "Now we can instantiate our basic RAG chain!\n",
        "We'll use LCEL directly just to see an example of it - but you could just as easily use an abstraction here to achieve the same goal!\n",
        "\n",
        "We'll also ensure to pass-through our context - which is critical for RAGAS."
      ]
    },
    {
      "cell_type": "code",
      "execution_count": null,
      "metadata": {
        "id": "x4nHI9AO698g"
      },
      "outputs": [],
      "source": [
        "from operator import itemgetter\n",
        "\n",
        "from langchain_openai import ChatOpenAI\n",
        "from langchain_core.output_parsers import StrOutputParser\n",
        "from langchain_core.runnables import RunnablePassthrough\n",
        "\n",
        "primary_qa_llm = ChatOpenAI(model_name=\"gpt-3.5-turbo\", temperature=0)\n",
        "\n",
        "retrieval_augmented_qa_chain = (\n",
        "    # INVOKE CHAIN WITH: {\"question\" : \"<<SOME USER QUESTION>>\"}\n",
        "    # \"question\" : populated by getting the value of the \"question\" key\n",
        "    # \"context\"  : populated by getting the value of the \"question\" key and chaining it into the base_retriever\n",
        "    {\"context\": itemgetter(\"question\") | retriever, \"question\": itemgetter(\"question\")}\n",
        "    # \"context\"  : is assigned to a RunnablePassthrough object (will not be called or considered in the next step)\n",
        "    #              by getting the value of the \"context\" key from the previous step\n",
        "    | RunnablePassthrough.assign(context=itemgetter(\"context\"))\n",
        "    # \"response\" : the \"context\" and \"question\" values are used to format our prompt object and then piped\n",
        "    #              into the LLM and stored in a key called \"response\"\n",
        "    # \"context\"  : populated by getting the value of the \"context\" key from the previous step\n",
        "    | {\"response\": prompt | primary_qa_llm, \"context\": itemgetter(\"context\")}\n",
        ")"
      ]
    },
    {
      "cell_type": "code",
      "execution_count": null,
      "metadata": {
        "id": "qOpOaqHlaV25"
      },
      "outputs": [],
      "source": []
    },
    {
      "cell_type": "markdown",
      "metadata": {
        "id": "fm4hBsY-ArxJ"
      },
      "source": [
        "#### **Let's test it out!**"
      ]
    },
    {
      "cell_type": "code",
      "source": [
        "question = \"Who owns the IP?\"\n",
        "\n",
        "result = retrieval_augmented_qa_chain.invoke({\"question\" : question})\n",
        "\n",
        "print(result[\"response\"].content)"
      ],
      "metadata": {
        "colab": {
          "base_uri": "https://localhost:8080/"
        },
        "id": "KBrK-3RMyq8K",
        "outputId": "c922da09-f9c5-47d1-d999-a59e272d1774"
      },
      "execution_count": null,
      "outputs": [
        {
          "output_type": "stream",
          "name": "stdout",
          "text": [
            "The Company owns the Intellectual Property.\n"
          ]
        }
      ]
    },
    {
      "cell_type": "markdown",
      "source": [
        "**But the correct answer is**: Any Work Product, upon creation, shall be fully and exclusively owned by the Company. in some extent is good answer"
      ],
      "metadata": {
        "id": "DoP2RZ03zcfx"
      }
    },
    {
      "cell_type": "code",
      "execution_count": null,
      "metadata": {
        "id": "rbjIXUhFaWCb"
      },
      "outputs": [],
      "source": [
        "context = \"\"\"\n",
        "The Advisory Services Agreement is a legal document between Cloud Investments Ltd. and Mr. Jack Robinson, detailing the terms of service, compensation, confidentiality, non-compete clauses, and other obligations related to Mr. Robinson providing advisory services to the company.\n",
        "\"\"\"\n",
        "\n",
        "questions = [\n",
        "    \"Who are the parties to the Agreement and what are their defined names??\",\n",
        "    \"How well does the RAG system capture the termination notice period as specified in the agreement?\",\n",
        "    \"Can the RAG system accurately detail the compensation structure, including hourly fees, workspace expense, and other expenses?\",\n",
        "    \"Does the RAG system correctly identify and interpret the clauses related to assignment and non-compete obligations?\",\n",
        "    \"Can the RAG system accurately determine the ownership of IP resulting from the services provided?\",\n",
        "    \"How effectively does the RAG system identify and summarize the non-compete clause's duration and scope?\",\n",
        "    \"Can the RAG system accurately interpret the definition of a Billable Hour, excluding meals and travel time?\",\n",
        "    \"Does the RAG system correctly assess the Advisor's entitlement to social benefits?\",\n",
        "    \"How well does the RAG system handle the scenario where the Advisor claims compensation based on an employment relationship with the Company?\"\n",
        "]\n"
      ]
    },
    {
      "cell_type": "code",
      "source": [
        "for question in questions:\n",
        "    # Assuming retrieval_augmented_qa_chain is a function that takes a dictionary with the question and context\n",
        "    result = retrieval_augmented_qa_chain.invoke({\"context\": context, \"question\": question})\n",
        "    print(f\"Question: {question}\\nResponse: {result['response'].content}\\n\")\n"
      ],
      "metadata": {
        "colab": {
          "base_uri": "https://localhost:8080/"
        },
        "id": "KtV9j3UqwU8u",
        "outputId": "2126f34b-4822-4572-9ad4-721c843ce003"
      },
      "execution_count": null,
      "outputs": [
        {
          "output_type": "stream",
          "name": "stdout",
          "text": [
            "Question: Who are the parties to the Agreement and what are their defined names??\n",
            "Response: I don't know.\n",
            "\n",
            "Question: How well does the RAG system capture the termination notice period as specified in the agreement?\n",
            "Response: The RAG system captures the termination notice period as specified in the agreement by categorizing it as terminable at the will of an Acquired Company upon thirty (30) days (or shorter) prior notice.\n",
            "\n",
            "Question: Can the RAG system accurately detail the compensation structure, including hourly fees, workspace expense, and other expenses?\n",
            "Response: I don't know.\n",
            "\n",
            "Question: Does the RAG system correctly identify and interpret the clauses related to assignment and non-compete obligations?\n",
            "Response: I don't know.\n",
            "\n",
            "Question: Can the RAG system accurately determine the ownership of IP resulting from the services provided?\n",
            "Response: I don't know.\n",
            "\n",
            "Question: How effectively does the RAG system identify and summarize the non-compete clause's duration and scope?\n",
            "Response: I don't know\n",
            "\n",
            "Question: Can the RAG system accurately interpret the definition of a Billable Hour, excluding meals and travel time?\n",
            "Response: Yes, the RAG system can accurately interpret the definition of a Billable Hour as the net time devoted to the provisioning of services, excluding meals and travel time.\n",
            "\n",
            "Question: Does the RAG system correctly assess the Advisor's entitlement to social benefits?\n",
            "Response: I don't know\n",
            "\n",
            "Question: How well does the RAG system handle the scenario where the Advisor claims compensation based on an employment relationship with the Company?\n",
            "Response: The RAG system does not handle the scenario where the Advisor claims compensation based on an employment relationship with the Company.\n",
            "\n"
          ]
        }
      ]
    },
    {
      "cell_type": "markdown",
      "metadata": {
        "id": "DZ_0aVDKxxDN"
      },
      "source": [
        "#### **Ragas Evaluation**\n",
        "\n",
        "Ragas is a powerful library that lets us evaluate our RAG pipeline by collecting input/output/context triplets and obtaining metrics relating to a number of different aspects of our RAG pipeline.\n",
        "\n",
        "We'll be evluating on every core metric today, but in order to do that - we'll need to creat a test set. Luckily for us, Ragas can do that directly!"
      ]
    },
    {
      "cell_type": "markdown",
      "metadata": {
        "id": "kLOeuO2GyAPZ"
      },
      "source": [
        "\n",
        "\n",
        "```\n",
        "# This is formatted as code\n",
        "```\n",
        "**NOTE**: This process will use `gpt-3.5-turbo-16k` as the base generator and `gpt-4` as the critic - if you're attempting to create a lot of samples please be aware of cost, as well as rate limits."
      ]
    },
    {
      "cell_type": "markdown",
      "metadata": {
        "id": "N077kK5eyUyV"
      },
      "source": [
        "Let's create a new set of documents to ensure we're not accidentally creating a sample test set that favours our base model too much!"
      ]
    },
    {
      "cell_type": "markdown",
      "source": [
        "##### **Note**:\n",
        "First I will evaluate on human annotated ground truth values then will learn how to RAGAs can help us generate test data."
      ],
      "metadata": {
        "id": "PSgWjtdDWLUj"
      }
    },
    {
      "cell_type": "code",
      "source": [
        "#! pip install datasets\n",
        "\n",
        "# Define the questions, context, and ground truth answers\n",
        "questions = [\n",
        "    \"Under what circumstances and to what extent the Sellers are responsible for a breach of representations and warranties?\",\n",
        "    \"Would the Sellers be responsible if after the closing it is determined that there were inaccuracies in the representation provided by them where such inaccuracies are the result of the Sellers’ gross negligence?\",\n",
        "    \"How much is the escrow amount?\",\n",
        "    \"Is the escrow amount greater than the Retention Amount?\",\n",
        "    \"What is the purpose of the escrow?\",\n",
        "    \"May the Escrow Amount serve as a recourse for the Buyer in case of a breach of representations by the Company?\",\n",
        "    \"Are there any conditions to the closing?\",\n",
        "    \"Are Change of Control Payments considered a Seller Transaction Expense?\",\n",
        "    \"Would the aggregate amount payable by the Buyer to the Sellers be affected if it is determined that the actual Closing Debt Amount is greater than the estimated Closing Debt Amount?\",\n",
        "    \"Does the Buyer need to pay the Employees Closing Bonus Amount directly to the Company’s employees?\",\n",
        "    \"Does any of the Sellers provide a representation with respect to any Tax matters related to the Company?\",\n",
        "    \"Is any of the Sellers bound by a non-competition covenant after the Closing?\",\n",
        "    \"Whose consent is required for the assignment of the Agreement by the Buyer?\",\n",
        "    \"Does the Buyer need the Sellers’ consent in the event of an assignment of the Agreement to a third party who is not a Buyer’s Affiliate?\"\n",
        "]\n",
        "\n",
        "context = [\n",
        " \"In the agreement, it is specified that except in the case of fraud, the Sellers have no liability for a breach of representations and warranties (See section 10.01). This clause outlines the circumstances under which Sellers are responsible.\",\n",
        "\n",
        "    \"According to the agreement, the Sellers would be responsible if, after the closing, it is determined that there were inaccuracies in the representation provided by them, where such inaccuracies are the result of the Sellers’ gross negligence. This is outlined in detail in the agreement, section [specific section].\",\n",
        "\n",
        "    \"The escrow amount specified in the agreement is $1,000,000. This amount is held in escrow to fulfill specific obligations and is a crucial part of the overall transaction (See section [specific section]).\",\n",
        "\n",
        "    \"As per the agreement, the escrow amount is not greater than the Retention Amount. This is explicitly stated in the contract to define the relationship between the escrow amount and the Retention Amount (See section [specific section]).\",\n",
        "\n",
        "    \"The purpose of the escrow, as defined in the agreement's section [specific section], is to serve as a recourse for the Buyer in case of post-closing adjustments of the purchase price. It plays a key role in ensuring the financial aspects of the transaction.\",\n",
        "\n",
        "    \"According to the agreement, the Escrow Amount may serve as a recourse for the Buyer in case of a breach of representations by the Company. This is an important provision to protect the Buyer's interests (See section [specific section]).\",\n",
        "\n",
        "    \"The agreement outlines specific conditions to the closing. Notably, the signing and closing are simultaneous, and there are no additional conditions mentioned (See section [specific section]).\",\n",
        "\n",
        "    \"Change of Control Payments are considered a Seller Transaction Expense, as defined in the agreement (See section [specific section]). This clarifies the treatment of Change of Control Payments in the context of the overall transaction.\",\n",
        "\n",
        "    \"The aggregate amount payable by the Buyer to the Sellers would be affected if it is determined that the actual Closing Debt Amount is greater than the estimated Closing Debt Amount. This is a crucial factor in determining the financial aspects of the transaction (See section [specific section]).\",\n",
        "\n",
        "    \"As per the agreement's Section 2.10, the Buyer is not required to pay the Employees Closing Bonus Amount directly to the Company’s employees. The specific details of payment are outlined in the agreement.\",\n",
        "\n",
        "    \"None of the Sellers provide a representation with respect to any Tax matters related to the Company. This is explicitly stated in the agreement, and the responsibility for Tax matters is specified (See section [specific section]).\",\n",
        "\n",
        "    \"As outlined in the agreement, none of the Sellers is bound by a non-competition covenant after the Closing. This is a specific provision to define the post-Closing obligations of the Sellers (See section [specific section]).\",\n",
        "\n",
        "    \"The assignment of the Agreement by the Buyer requires the consent of specific parties. If the assignment is to an Affiliate or purchaser of all of the Buyer’s assets, no consent is required. Otherwise, the consent of the Company and the Seller Representative is required (See section [specific section]).\",\n",
        "\n",
        "    \"The Buyer needs the Sellers’ consent in the event of an assignment of the Agreement to a third party who is not a Buyer’s Affiliate. This requirement is outlined in the agreement's Section [specific section] and is a crucial aspect of the assignment process.\"\n",
        "\n",
        "\n",
        "]\n",
        "ground_truth = [\n",
        "    \"Except in the case of fraud, the Sellers have no liability for a breach of representations and warranties (See section  10.01)\",\n",
        "    \"Yes\",\n",
        "    \"$1,000,000\",\n",
        "    \"No\",\n",
        "    \"To serve as a recourse of the Buyer in case of post-closing adjustments of the purchase price. (See section  2.07(e))\",\n",
        "    \"No\",\n",
        "    \"No, as the signing and closing are simultaneous.\",\n",
        "    \"Yes. (See defining Sellers Transaction Expenses).\",\n",
        "    \"Yes (See Section  2.07)\",\n",
        "    \"No. (See Section  2.10)\",\n",
        "    \"No. Only the Company provides such a representation.\",\n",
        "    \"No.\",\n",
        "    \"If the assignment is to an Affiliate or purchaser of all of the Buyer’s assets, no consent is required. Otherwise, the consent of the Company and the Seller Representative is required.\",\n",
        "    \"No. If the assignment is not part of a sale of all or substantially all of the Buyer’s assets, the assignment requires the consent of the Company and the Seller’s Representative.\"\n",
        "]\n"
      ],
      "metadata": {
        "id": "CIUxnmiE9DR8"
      },
      "execution_count": null,
      "outputs": []
    },
    {
      "cell_type": "code",
      "source": [
        "! pip install ipython-sql==0.4.0\n"
      ],
      "metadata": {
        "colab": {
          "base_uri": "https://localhost:8080/"
        },
        "id": "PvLXlSN9M1RA",
        "outputId": "8d76c201-e087-40a9-8a95-3bec7d599bb0"
      },
      "execution_count": null,
      "outputs": [
        {
          "output_type": "stream",
          "name": "stdout",
          "text": [
            "Collecting ipython-sql==0.4.0\n",
            "  Downloading ipython_sql-0.4.0-py3-none-any.whl (19 kB)\n",
            "Collecting prettytable<1 (from ipython-sql==0.4.0)\n",
            "  Downloading prettytable-0.7.2.zip (28 kB)\n",
            "  Preparing metadata (setup.py) ... \u001b[?25l\u001b[?25hdone\n",
            "Requirement already satisfied: ipython>=1.0 in /usr/local/lib/python3.10/dist-packages (from ipython-sql==0.4.0) (7.34.0)\n",
            "Requirement already satisfied: sqlalchemy>=0.6.7 in /usr/local/lib/python3.10/dist-packages (from ipython-sql==0.4.0) (1.4.51)\n",
            "Requirement already satisfied: sqlparse in /usr/local/lib/python3.10/dist-packages (from ipython-sql==0.4.0) (0.4.4)\n",
            "Requirement already satisfied: six in /usr/local/lib/python3.10/dist-packages (from ipython-sql==0.4.0) (1.16.0)\n",
            "Requirement already satisfied: ipython-genutils>=0.1.0 in /usr/local/lib/python3.10/dist-packages (from ipython-sql==0.4.0) (0.2.0)\n",
            "Requirement already satisfied: setuptools>=18.5 in /usr/local/lib/python3.10/dist-packages (from ipython>=1.0->ipython-sql==0.4.0) (67.7.2)\n",
            "Collecting jedi>=0.16 (from ipython>=1.0->ipython-sql==0.4.0)\n",
            "  Downloading jedi-0.19.1-py2.py3-none-any.whl (1.6 MB)\n",
            "\u001b[2K     \u001b[90m━━━━━━━━━━━━━━━━━━━━━━━━━━━━━━━━━━━━━━━━\u001b[0m \u001b[32m1.6/1.6 MB\u001b[0m \u001b[31m11.2 MB/s\u001b[0m eta \u001b[36m0:00:00\u001b[0m\n",
            "\u001b[?25hRequirement already satisfied: decorator in /usr/local/lib/python3.10/dist-packages (from ipython>=1.0->ipython-sql==0.4.0) (4.4.2)\n",
            "Requirement already satisfied: pickleshare in /usr/local/lib/python3.10/dist-packages (from ipython>=1.0->ipython-sql==0.4.0) (0.7.5)\n",
            "Requirement already satisfied: traitlets>=4.2 in /usr/local/lib/python3.10/dist-packages (from ipython>=1.0->ipython-sql==0.4.0) (5.7.1)\n",
            "Requirement already satisfied: prompt-toolkit!=3.0.0,!=3.0.1,<3.1.0,>=2.0.0 in /usr/local/lib/python3.10/dist-packages (from ipython>=1.0->ipython-sql==0.4.0) (3.0.43)\n",
            "Requirement already satisfied: pygments in /usr/local/lib/python3.10/dist-packages (from ipython>=1.0->ipython-sql==0.4.0) (2.16.1)\n",
            "Requirement already satisfied: backcall in /usr/local/lib/python3.10/dist-packages (from ipython>=1.0->ipython-sql==0.4.0) (0.2.0)\n",
            "Requirement already satisfied: matplotlib-inline in /usr/local/lib/python3.10/dist-packages (from ipython>=1.0->ipython-sql==0.4.0) (0.1.6)\n",
            "Requirement already satisfied: pexpect>4.3 in /usr/local/lib/python3.10/dist-packages (from ipython>=1.0->ipython-sql==0.4.0) (4.9.0)\n",
            "Requirement already satisfied: greenlet!=0.4.17 in /usr/local/lib/python3.10/dist-packages (from sqlalchemy>=0.6.7->ipython-sql==0.4.0) (3.0.3)\n",
            "Requirement already satisfied: parso<0.9.0,>=0.8.3 in /usr/local/lib/python3.10/dist-packages (from jedi>=0.16->ipython>=1.0->ipython-sql==0.4.0) (0.8.3)\n",
            "Requirement already satisfied: ptyprocess>=0.5 in /usr/local/lib/python3.10/dist-packages (from pexpect>4.3->ipython>=1.0->ipython-sql==0.4.0) (0.7.0)\n",
            "Requirement already satisfied: wcwidth in /usr/local/lib/python3.10/dist-packages (from prompt-toolkit!=3.0.0,!=3.0.1,<3.1.0,>=2.0.0->ipython>=1.0->ipython-sql==0.4.0) (0.2.13)\n",
            "Building wheels for collected packages: prettytable\n",
            "  Building wheel for prettytable (setup.py) ... \u001b[?25l\u001b[?25hdone\n",
            "  Created wheel for prettytable: filename=prettytable-0.7.2-py3-none-any.whl size=13696 sha256=2e9182c143a737ad61c27f5471becbc177b83826b9c723829c85a37b4d66da7c\n",
            "  Stored in directory: /root/.cache/pip/wheels/25/4b/07/18c5d92824315576e478206ea69df34a9e31958f6143eb0e31\n",
            "Successfully built prettytable\n",
            "Installing collected packages: prettytable, jedi, ipython-sql\n",
            "  Attempting uninstall: prettytable\n",
            "    Found existing installation: prettytable 3.9.0\n",
            "    Uninstalling prettytable-3.9.0:\n",
            "      Successfully uninstalled prettytable-3.9.0\n",
            "  Attempting uninstall: ipython-sql\n",
            "    Found existing installation: ipython-sql 0.5.0\n",
            "    Uninstalling ipython-sql-0.5.0:\n",
            "      Successfully uninstalled ipython-sql-0.5.0\n",
            "Successfully installed ipython-sql-0.4.0 jedi-0.19.1 prettytable-0.7.2\n"
          ]
        }
      ]
    },
    {
      "cell_type": "code",
      "source": [
        "! pip install datasets\n"
      ],
      "metadata": {
        "colab": {
          "base_uri": "https://localhost:8080/"
        },
        "id": "S2F-GmOFNM77",
        "outputId": "94ca4e1e-7a76-40d3-f399-ee084b5b9584"
      },
      "execution_count": null,
      "outputs": [
        {
          "output_type": "stream",
          "name": "stdout",
          "text": [
            "Collecting datasets\n",
            "  Downloading datasets-2.17.1-py3-none-any.whl (536 kB)\n",
            "\u001b[2K     \u001b[90m━━━━━━━━━━━━━━━━━━━━━━━━━━━━━━━━━━━━━━━━\u001b[0m \u001b[32m536.7/536.7 kB\u001b[0m \u001b[31m4.7 MB/s\u001b[0m eta \u001b[36m0:00:00\u001b[0m\n",
            "\u001b[?25hRequirement already satisfied: filelock in /usr/local/lib/python3.10/dist-packages (from datasets) (3.13.1)\n",
            "Requirement already satisfied: numpy>=1.17 in /usr/local/lib/python3.10/dist-packages (from datasets) (1.25.2)\n",
            "Requirement already satisfied: pyarrow>=12.0.0 in /usr/local/lib/python3.10/dist-packages (from datasets) (14.0.2)\n",
            "Requirement already satisfied: pyarrow-hotfix in /usr/local/lib/python3.10/dist-packages (from datasets) (0.6)\n",
            "Collecting dill<0.3.9,>=0.3.0 (from datasets)\n",
            "  Downloading dill-0.3.8-py3-none-any.whl (116 kB)\n",
            "\u001b[2K     \u001b[90m━━━━━━━━━━━━━━━━━━━━━━━━━━━━━━━━━━━━━━━━\u001b[0m \u001b[32m116.3/116.3 kB\u001b[0m \u001b[31m6.6 MB/s\u001b[0m eta \u001b[36m0:00:00\u001b[0m\n",
            "\u001b[?25hRequirement already satisfied: pandas in /usr/local/lib/python3.10/dist-packages (from datasets) (1.5.3)\n",
            "Requirement already satisfied: requests>=2.19.0 in /usr/local/lib/python3.10/dist-packages (from datasets) (2.31.0)\n",
            "Requirement already satisfied: tqdm>=4.62.1 in /usr/local/lib/python3.10/dist-packages (from datasets) (4.66.2)\n",
            "Requirement already satisfied: xxhash in /usr/local/lib/python3.10/dist-packages (from datasets) (3.4.1)\n",
            "Collecting multiprocess (from datasets)\n",
            "  Downloading multiprocess-0.70.16-py310-none-any.whl (134 kB)\n",
            "\u001b[2K     \u001b[90m━━━━━━━━━━━━━━━━━━━━━━━━━━━━━━━━━━━━━━━━\u001b[0m \u001b[32m134.8/134.8 kB\u001b[0m \u001b[31m7.9 MB/s\u001b[0m eta \u001b[36m0:00:00\u001b[0m\n",
            "\u001b[?25hRequirement already satisfied: fsspec[http]<=2023.10.0,>=2023.1.0 in /usr/local/lib/python3.10/dist-packages (from datasets) (2023.6.0)\n",
            "Requirement already satisfied: aiohttp in /usr/local/lib/python3.10/dist-packages (from datasets) (3.9.3)\n",
            "Requirement already satisfied: huggingface-hub>=0.19.4 in /usr/local/lib/python3.10/dist-packages (from datasets) (0.20.3)\n",
            "Requirement already satisfied: packaging in /usr/local/lib/python3.10/dist-packages (from datasets) (23.2)\n",
            "Requirement already satisfied: pyyaml>=5.1 in /usr/local/lib/python3.10/dist-packages (from datasets) (6.0.1)\n",
            "Requirement already satisfied: aiosignal>=1.1.2 in /usr/local/lib/python3.10/dist-packages (from aiohttp->datasets) (1.3.1)\n",
            "Requirement already satisfied: attrs>=17.3.0 in /usr/local/lib/python3.10/dist-packages (from aiohttp->datasets) (23.2.0)\n",
            "Requirement already satisfied: frozenlist>=1.1.1 in /usr/local/lib/python3.10/dist-packages (from aiohttp->datasets) (1.4.1)\n",
            "Requirement already satisfied: multidict<7.0,>=4.5 in /usr/local/lib/python3.10/dist-packages (from aiohttp->datasets) (6.0.5)\n",
            "Requirement already satisfied: yarl<2.0,>=1.0 in /usr/local/lib/python3.10/dist-packages (from aiohttp->datasets) (1.9.4)\n",
            "Requirement already satisfied: async-timeout<5.0,>=4.0 in /usr/local/lib/python3.10/dist-packages (from aiohttp->datasets) (4.0.3)\n",
            "Requirement already satisfied: typing-extensions>=3.7.4.3 in /usr/local/lib/python3.10/dist-packages (from huggingface-hub>=0.19.4->datasets) (4.9.0)\n",
            "Requirement already satisfied: charset-normalizer<4,>=2 in /usr/local/lib/python3.10/dist-packages (from requests>=2.19.0->datasets) (3.3.2)\n",
            "Requirement already satisfied: idna<4,>=2.5 in /usr/local/lib/python3.10/dist-packages (from requests>=2.19.0->datasets) (3.6)\n",
            "Requirement already satisfied: urllib3<3,>=1.21.1 in /usr/local/lib/python3.10/dist-packages (from requests>=2.19.0->datasets) (2.0.7)\n",
            "Requirement already satisfied: certifi>=2017.4.17 in /usr/local/lib/python3.10/dist-packages (from requests>=2.19.0->datasets) (2024.2.2)\n",
            "Requirement already satisfied: python-dateutil>=2.8.1 in /usr/local/lib/python3.10/dist-packages (from pandas->datasets) (2.8.2)\n",
            "Requirement already satisfied: pytz>=2020.1 in /usr/local/lib/python3.10/dist-packages (from pandas->datasets) (2023.4)\n",
            "Requirement already satisfied: six>=1.5 in /usr/local/lib/python3.10/dist-packages (from python-dateutil>=2.8.1->pandas->datasets) (1.16.0)\n",
            "Installing collected packages: dill, multiprocess, datasets\n",
            "Successfully installed datasets-2.17.1 dill-0.3.8 multiprocess-0.70.16\n"
          ]
        }
      ]
    },
    {
      "cell_type": "code",
      "source": [
        "from datasets import Dataset\n",
        "import pandas as pd\n",
        "\n",
        "# Initialize empty list for QAC triples\n",
        "qac_triples = []\n",
        "\n",
        "# Populate QAC triples\n",
        "for question, ground_truth in zip(questions, ground_truth):\n",
        "    output_dict = {\n",
        "        \"question\": question,\n",
        "        \"context\": context,\n",
        "        \"ground_truth\": ground_truth\n",
        "    }\n",
        "    qac_triples.append(output_dict)\n",
        "\n",
        "# Convert QAC triples to DataFrame\n",
        "ground_truth_qac_set = pd.DataFrame(qac_triples)\n",
        "\n",
        "# Rename column for consistency\n",
        "ground_truth_qac_set = ground_truth_qac_set.rename(columns={\"ground_truth\": \"answer\"})\n",
        "\n",
        "# Create a dataset from the DataFrame\n",
        "eval_dataset = Dataset.from_pandas(ground_truth_qac_set)\n"
      ],
      "metadata": {
        "id": "qno_UAxP8xfw"
      },
      "execution_count": null,
      "outputs": []
    },
    {
      "cell_type": "code",
      "source": [
        "eval_dataset[0]"
      ],
      "metadata": {
        "colab": {
          "base_uri": "https://localhost:8080/"
        },
        "id": "KMVc_XXm9KLd",
        "outputId": "2e7bb283-63cd-4758-8446-5817e74f075a"
      },
      "execution_count": null,
      "outputs": [
        {
          "output_type": "execute_result",
          "data": {
            "text/plain": [
              "{'question': 'Under what circumstances and to what extent the Sellers are responsible for a breach of representations and warranties?',\n",
              " 'context': ['In the agreement, it is specified that except in the case of fraud, the Sellers have no liability for a breach of representations and warranties (See section 10.01). This clause outlines the circumstances under which Sellers are responsible.',\n",
              "  'According to the agreement, the Sellers would be responsible if, after the closing, it is determined that there were inaccuracies in the representation provided by them, where such inaccuracies are the result of the Sellers’ gross negligence. This is outlined in detail in the agreement, section [specific section].',\n",
              "  'The escrow amount specified in the agreement is $1,000,000. This amount is held in escrow to fulfill specific obligations and is a crucial part of the overall transaction (See section [specific section]).',\n",
              "  'As per the agreement, the escrow amount is not greater than the Retention Amount. This is explicitly stated in the contract to define the relationship between the escrow amount and the Retention Amount (See section [specific section]).',\n",
              "  \"The purpose of the escrow, as defined in the agreement's section [specific section], is to serve as a recourse for the Buyer in case of post-closing adjustments of the purchase price. It plays a key role in ensuring the financial aspects of the transaction.\",\n",
              "  \"According to the agreement, the Escrow Amount may serve as a recourse for the Buyer in case of a breach of representations by the Company. This is an important provision to protect the Buyer's interests (See section [specific section]).\",\n",
              "  'The agreement outlines specific conditions to the closing. Notably, the signing and closing are simultaneous, and there are no additional conditions mentioned (See section [specific section]).',\n",
              "  'Change of Control Payments are considered a Seller Transaction Expense, as defined in the agreement (See section [specific section]). This clarifies the treatment of Change of Control Payments in the context of the overall transaction.',\n",
              "  'The aggregate amount payable by the Buyer to the Sellers would be affected if it is determined that the actual Closing Debt Amount is greater than the estimated Closing Debt Amount. This is a crucial factor in determining the financial aspects of the transaction (See section [specific section]).',\n",
              "  \"As per the agreement's Section 2.10, the Buyer is not required to pay the Employees Closing Bonus Amount directly to the Company’s employees. The specific details of payment are outlined in the agreement.\",\n",
              "  'None of the Sellers provide a representation with respect to any Tax matters related to the Company. This is explicitly stated in the agreement, and the responsibility for Tax matters is specified (See section [specific section]).',\n",
              "  'As outlined in the agreement, none of the Sellers is bound by a non-competition covenant after the Closing. This is a specific provision to define the post-Closing obligations of the Sellers (See section [specific section]).',\n",
              "  'The assignment of the Agreement by the Buyer requires the consent of specific parties. If the assignment is to an Affiliate or purchaser of all of the Buyer’s assets, no consent is required. Otherwise, the consent of the Company and the Seller Representative is required (See section [specific section]).',\n",
              "  \"The Buyer needs the Sellers’ consent in the event of an assignment of the Agreement to a third party who is not a Buyer’s Affiliate. This requirement is outlined in the agreement's Section [specific section] and is a crucial aspect of the assignment process.\"],\n",
              " 'answer': 'Except in the case of fraud, the Sellers have no liability for a breach of representations and warranties (See section  10.01)'}"
            ]
          },
          "metadata": {},
          "execution_count": 42
        }
      ]
    },
    {
      "cell_type": "code",
      "source": [
        "def create_ragas_dataset(rag_pipeline, eval_dataset):\n",
        "    rag_dataset = []\n",
        "    for row in tqdm(eval_dataset):\n",
        "        answer = rag_pipeline.invoke({\"question\": row[\"question\"]})\n",
        "        rag_dataset.append(\n",
        "            {\"question\": row[\"question\"],\n",
        "             \"answer\": str(answer[\"response\"]),  # Convert to string\n",
        "             \"contexts\": [row[\"context\"]],\n",
        "             \"ground_truths\": [row[\"answer\"]]\n",
        "             }\n",
        "        )\n",
        "    rag_df = pd.DataFrame(rag_dataset)\n",
        "    rag_eval_dataset = Dataset.from_pandas(rag_df)\n",
        "    return rag_eval_dataset\n"
      ],
      "metadata": {
        "id": "fFesthkoJaIu"
      },
      "execution_count": null,
      "outputs": []
    },
    {
      "cell_type": "code",
      "source": [
        "from ragas.metrics import (\n",
        "    answer_relevancy,\n",
        "    faithfulness,\n",
        "    context_recall,\n",
        "    context_precision,\n",
        "    context_relevancy,\n",
        "    answer_correctness,\n",
        "    answer_similarity\n",
        ")\n",
        "from ragas.metrics.critique import harmfulness\n",
        "from ragas import evaluate\n",
        "def create_ragas_dataset(rag_pipeline, eval_dataset):\n",
        "  rag_dataset = []\n",
        "  for row in tqdm(eval_dataset):\n",
        "    answer = rag_pipeline.invoke({\"question\" : row[\"question\"]})\n",
        "    rag_dataset.append(\n",
        "        {\"question\" : row[\"question\"],\n",
        "         \"answer\" : answer[\"response\"],\n",
        "         \"contexts\" : [context.page_content for context in answer[\"context\"]],\n",
        "         \"ground_truths\" : [row[\"ground_truth\"]]\n",
        "         }\n",
        "    )\n",
        "  rag_df = pd.DataFrame(rag_dataset)\n",
        "  rag_eval_dataset = Dataset.from_pandas(rag_df)\n",
        "  return rag_eval_dataset\n",
        "def evaluate_ragas_dataset(ragas_dataset):\n",
        "  result = evaluate(\n",
        "    ragas_dataset,\n",
        "    metrics=[\n",
        "        context_precision,\n",
        "        faithfulness,\n",
        "        answer_relevancy,\n",
        "        context_recall,\n",
        "        context_relevancy,\n",
        "        answer_correctness,\n",
        "        answer_similarity\n",
        "    ],\n",
        "  )\n",
        "  return result\n"
      ],
      "metadata": {
        "id": "LBMHt1W8PnKW"
      },
      "execution_count": null,
      "outputs": []
    },
    {
      "cell_type": "code",
      "source": [
        "from datasets import Features, Sequence, Value, Dataset\n",
        "\n",
        "def create_ragas_dataset(rag_pipeline, eval_dataset):\n",
        "    # Define the features explicitly\n",
        "    features = Features({\n",
        "        \"question\": Value(\"string\"),\n",
        "        \"answer\": Value(\"string\"),\n",
        "        \"contexts\": Sequence(Value(\"string\")),\n",
        "        \"ground_truths\": Sequence(Value(\"string\"))\n",
        "    })\n",
        "\n",
        "    rag_dataset = []\n",
        "    for row in tqdm(eval_dataset):\n",
        "        answer = rag_pipeline.invoke({\"question\": row[\"question\"]})\n",
        "        rag_dataset.append(\n",
        "            {\n",
        "                \"question\": row[\"question\"],\n",
        "                \"answer\": str(answer[\"response\"]),  # Convert to string\n",
        "                \"contexts\": [row[\"context\"]],\n",
        "                \"ground_truths\": [row[\"answer\"]]\n",
        "            }\n",
        "        )\n",
        "\n",
        "    # Extract the data from the created dataset\n",
        "    data = {\"question\": [], \"answer\": [], \"contexts\": [], \"ground_truths\": []}\n",
        "    for example in rag_dataset:\n",
        "        data[\"question\"].append(example[\"question\"])\n",
        "        data[\"answer\"].append(example[\"answer\"])\n",
        "        data[\"contexts\"].append(example[\"contexts\"])\n",
        "        data[\"ground_truths\"].append(example[\"ground_truths\"])\n",
        "\n",
        "    # Create the final dataset\n",
        "    rag_eval_dataset = Dataset.from_dict(data, features=features)\n",
        "    return rag_eval_dataset\n",
        "\n",
        "from tqdm import tqdm\n",
        "import pandas as pd\n",
        "basic_qa_ragas_dataset = create_ragas_dataset(retrieval_augmented_qa_chain, eval_dataset)\n"
      ],
      "metadata": {
        "colab": {
          "base_uri": "https://localhost:8080/"
        },
        "id": "7zWHo-79P_TI",
        "outputId": "3d7e2363-732a-4b03-bbf4-a5e022b9dbb4"
      },
      "execution_count": null,
      "outputs": [
        {
          "output_type": "stream",
          "name": "stderr",
          "text": [
            "100%|██████████| 14/14 [00:12<00:00,  1.15it/s]\n"
          ]
        }
      ]
    },
    {
      "cell_type": "code",
      "source": [
        "from ragas import evaluate  # Ensure you have imported the evaluate function\n",
        "\n",
        "def evaluate_ragas_dataset(ragas_dataset):\n",
        "    result = evaluate(\n",
        "        ragas_dataset,\n",
        "        metrics=[\n",
        "            context_precision,\n",
        "            faithfulness,\n",
        "            answer_relevancy,\n",
        "            context_recall,\n",
        "            context_relevancy,\n",
        "            answer_correctness,\n",
        "            answer_similarity\n",
        "        ],\n",
        "    )\n",
        "    return result\n"
      ],
      "metadata": {
        "id": "AvVgkLVs9QwH"
      },
      "execution_count": null,
      "outputs": []
    },
    {
      "cell_type": "code",
      "source": [
        "def evaluate_ragas_dataset(ragas_dataset):\n",
        "    result = evaluate(\n",
        "        ragas_dataset,\n",
        "        metrics=[\n",
        "            context_precision,\n",
        "            answer_relevancy,\n",
        "            context_recall,\n",
        "            context_relevancy,\n",
        "            answer_correctness,\n",
        "            answer_similarity\n",
        "        ],\n",
        "    )\n",
        "    return result\n",
        "\n",
        "basic_qa_result = evaluate_ragas_dataset(basic_qa_ragas_dataset)\n"
      ],
      "metadata": {
        "id": "XbUqwX5PAKOt",
        "colab": {
          "base_uri": "https://localhost:8080/",
          "height": 86,
          "referenced_widgets": [
            "1f430fad0ccf45bcb3fc812e65dcbf8c",
            "7ebd41457cf7487d980452b1e17c0bc7",
            "0a368d166bc14c86817a67b31560322f",
            "22bc226a445a497d8a3ce7c48bd1dfec",
            "77fe128e81834713922024315f94d677",
            "43e125ca435e44f09bdf1c91d12c7324",
            "d056f6c8a2a44271aa03fda0fe437b62",
            "7d7b9cb9143e4f8a99cdd4fb1a8aa633",
            "3be75c1ff2574575a1a5f686e8a39a73",
            "b6900c3dd3fa4d5e8a71720e6c16b4c7",
            "e4def72f258b42dc851d91b82e31469a"
          ]
        },
        "outputId": "490208e4-1f4d-4a90-dd39-63482044699e"
      },
      "execution_count": null,
      "outputs": [
        {
          "output_type": "stream",
          "name": "stderr",
          "text": [
            "WARNING:ragas.validation:passing column names as 'ground_truths' is deprecated and will be removed in the next version, please use 'ground_truth' instead. Note that `ground_truth` should be of type string and not Sequence[string] like `ground_truths`\n"
          ]
        },
        {
          "output_type": "display_data",
          "data": {
            "text/plain": [
              "Evaluating:   0%|          | 0/84 [00:00<?, ?it/s]"
            ],
            "application/vnd.jupyter.widget-view+json": {
              "version_major": 2,
              "version_minor": 0,
              "model_id": "1f430fad0ccf45bcb3fc812e65dcbf8c"
            }
          },
          "metadata": {}
        }
      ]
    },
    {
      "cell_type": "code",
      "source": [
        "print(basic_qa_result)\n"
      ],
      "metadata": {
        "colab": {
          "base_uri": "https://localhost:8080/"
        },
        "id": "xMEcKiVPLHHL",
        "outputId": "d65758df-2269-4b39-ed26-30c6d01815c9"
      },
      "execution_count": null,
      "outputs": [
        {
          "output_type": "stream",
          "name": "stdout",
          "text": [
            "{'context_precision': 1.0000, 'answer_relevancy': 0.8599, 'context_recall': 1.0000, 'context_relevancy': 0.0526, 'answer_correctness': 0.3423, 'answer_similarity': 0.7977}\n"
          ]
        }
      ]
    },
    {
      "cell_type": "code",
      "source": [
        "for key, value in basic_qa_result.items():\n",
        "    print(f\"{key}: {value}\")\n"
      ],
      "metadata": {
        "colab": {
          "base_uri": "https://localhost:8080/"
        },
        "id": "7tWbYdJELOSb",
        "outputId": "92e15c23-43fa-4fe0-f3b4-676c1def1041"
      },
      "execution_count": null,
      "outputs": [
        {
          "output_type": "stream",
          "name": "stdout",
          "text": [
            "context_precision: 0.9999999999\n",
            "answer_relevancy: 0.859931521572619\n",
            "context_recall: 1.0\n",
            "context_relevancy: 0.05263157894736841\n",
            "answer_correctness: 0.34227993106940674\n",
            "answer_similarity: 0.7976710380372234\n"
          ]
        }
      ]
    },
    {
      "cell_type": "code",
      "execution_count": null,
      "metadata": {
        "id": "WOwTozgIaWJO"
      },
      "outputs": [],
      "source": [
        "import matplotlib.pyplot as plt\n",
        "def plot_metrics_with_values(metrics_dict, title='RAG Metrics'):\n",
        "    \"\"\"\n",
        "    Plots a bar chart for metrics contained in a dictionary and annotates the values on the bars.\n",
        "    Args:\n",
        "    metrics_dict (dict): A dictionary with metric names as keys and values as metric scores.\n",
        "    title (str): The title of the plot.\n",
        "    \"\"\"\n",
        "    names = list(metrics_dict.keys())\n",
        "    values = list(metrics_dict.values())\n",
        "    plt.figure(figsize=(10, 6))\n",
        "    bars = plt.barh(names, values, color='skyblue')\n",
        "    # Adding the values on top of the bars\n",
        "    for bar in bars:\n",
        "        width = bar.get_width()\n",
        "        plt.text(width + 0.01,  # x-position\n",
        "                 bar.get_y() + bar.get_height() / 2,  # y-position\n",
        "                 f'{width:.4f}',  # value\n",
        "                 va='center')\n",
        "    plt.xlabel('Score')\n",
        "    plt.title(title)\n",
        "    plt.xlim(0, 1)  # Setting the x-axis limit to be from 0 to 1\n",
        "    plt.show()"
      ]
    },
    {
      "cell_type": "code",
      "source": [
        "plot_metrics_with_values(basic_qa_result, \"Base Retriever ragas Metrics\")\n"
      ],
      "metadata": {
        "colab": {
          "base_uri": "https://localhost:8080/",
          "height": 564
        },
        "id": "xgyEBa9tlySh",
        "outputId": "64b2fd2b-f5a2-487d-ff6e-575ad34ad247"
      },
      "execution_count": null,
      "outputs": [
        {
          "output_type": "display_data",
          "data": {
            "text/plain": [
              "<Figure size 1000x600 with 1 Axes>"
            ],
            "image/png": "[encoded data removed]"
          },
          "metadata": {}
        }
      ]
    },
    {
      "cell_type": "code",
      "source": [],
      "metadata": {
        "id": "JabsamldlzN-"
      },
      "execution_count": null,
      "outputs": []
    }
  ],
  "metadata": {
    "colab": {
      "provenance": [],
      "gpuType": "T4",
      "include_colab_link": true
    },
    "kernelspec": {
      "display_name": "Python 3",
      "name": "python3"
    },
    "language_info": {
      "codemirror_mode": {
        "name": "ipython",
        "version": 3
      },
      "file_extension": ".py",
      "mimetype": "text/x-python",
      "name": "python",
      "nbconvert_exporter": "python",
      "pygments_lexer": "ipython3",
      "version": "3.11.5"
    },
    "accelerator": "GPU",
    "widgets": {
      "application/vnd.jupyter.widget-state+json": {
        "1f430fad0ccf45bcb3fc812e65dcbf8c": {
          "model_module": "@jupyter-widgets/controls",
          "model_name": "HBoxModel",
          "model_module_version": "1.5.0",
          "state": {
            "_dom_classes": [],
            "_model_module": "@jupyter-widgets/controls",
            "_model_module_version": "1.5.0",
            "_model_name": "HBoxModel",
            "_view_count": null,
            "_view_module": "@jupyter-widgets/controls",
            "_view_module_version": "1.5.0",
            "_view_name": "HBoxView",
            "box_style": "",
            "children": [
              "IPY_MODEL_7ebd41457cf7487d980452b1e17c0bc7",
              "IPY_MODEL_0a368d166bc14c86817a67b31560322f",
              "IPY_MODEL_22bc226a445a497d8a3ce7c48bd1dfec"
            ],
            "layout": "IPY_MODEL_77fe128e81834713922024315f94d677"
          }
        },
        "7ebd41457cf7487d980452b1e17c0bc7": {
          "model_module": "@jupyter-widgets/controls",
          "model_name": "HTMLModel",
          "model_module_version": "1.5.0",
          "state": {
            "_dom_classes": [],
            "_model_module": "@jupyter-widgets/controls",
            "_model_module_version": "1.5.0",
            "_model_name": "HTMLModel",
            "_view_count": null,
            "_view_module": "@jupyter-widgets/controls",
            "_view_module_version": "1.5.0",
            "_view_name": "HTMLView",
            "description": "",
            "description_tooltip": null,
            "layout": "IPY_MODEL_43e125ca435e44f09bdf1c91d12c7324",
            "placeholder": "​",
            "style": "IPY_MODEL_d056f6c8a2a44271aa03fda0fe437b62",
            "value": "Evaluating: 100%"
          }
        },
        "0a368d166bc14c86817a67b31560322f": {
          "model_module": "@jupyter-widgets/controls",
          "model_name": "FloatProgressModel",
          "model_module_version": "1.5.0",
          "state": {
            "_dom_classes": [],
            "_model_module": "@jupyter-widgets/controls",
            "_model_module_version": "1.5.0",
            "_model_name": "FloatProgressModel",
            "_view_count": null,
            "_view_module": "@jupyter-widgets/controls",
            "_view_module_version": "1.5.0",
            "_view_name": "ProgressView",
            "bar_style": "success",
            "description": "",
            "description_tooltip": null,
            "layout": "IPY_MODEL_7d7b9cb9143e4f8a99cdd4fb1a8aa633",
            "max": 84,
            "min": 0,
            "orientation": "horizontal",
            "style": "IPY_MODEL_3be75c1ff2574575a1a5f686e8a39a73",
            "value": 84
          }
        },
        "22bc226a445a497d8a3ce7c48bd1dfec": {
          "model_module": "@jupyter-widgets/controls",
          "model_name": "HTMLModel",
          "model_module_version": "1.5.0",
          "state": {
            "_dom_classes": [],
            "_model_module": "@jupyter-widgets/controls",
            "_model_module_version": "1.5.0",
            "_model_name": "HTMLModel",
            "_view_count": null,
            "_view_module": "@jupyter-widgets/controls",
            "_view_module_version": "1.5.0",
            "_view_name": "HTMLView",
            "description": "",
            "description_tooltip": null,
            "layout": "IPY_MODEL_b6900c3dd3fa4d5e8a71720e6c16b4c7",
            "placeholder": "​",
            "style": "IPY_MODEL_e4def72f258b42dc851d91b82e31469a",
            "value": " 84/84 [00:18&lt;00:00,  4.85it/s]"
          }
        },
        "77fe128e81834713922024315f94d677": {
          "model_module": "@jupyter-widgets/base",
          "model_name": "LayoutModel",
          "model_module_version": "1.2.0",
          "state": {
            "_model_module": "@jupyter-widgets/base",
            "_model_module_version": "1.2.0",
            "_model_name": "LayoutModel",
            "_view_count": null,
            "_view_module": "@jupyter-widgets/base",
            "_view_module_version": "1.2.0",
            "_view_name": "LayoutView",
            "align_content": null,
            "align_items": null,
            "align_self": null,
            "border": null,
            "bottom": null,
            "display": null,
            "flex": null,
            "flex_flow": null,
            "grid_area": null,
            "grid_auto_columns": null,
            "grid_auto_flow": null,
            "grid_auto_rows": null,
            "grid_column": null,
            "grid_gap": null,
            "grid_row": null,
            "grid_template_areas": null,
            "grid_template_columns": null,
            "grid_template_rows": null,
            "height": null,
            "justify_content": null,
            "justify_items": null,
            "left": null,
            "margin": null,
            "max_height": null,
            "max_width": null,
            "min_height": null,
            "min_width": null,
            "object_fit": null,
            "object_position": null,
            "order": null,
            "overflow": null,
            "overflow_x": null,
            "overflow_y": null,
            "padding": null,
            "right": null,
            "top": null,
            "visibility": null,
            "width": null
          }
        },
        "43e125ca435e44f09bdf1c91d12c7324": {
          "model_module": "@jupyter-widgets/base",
          "model_name": "LayoutModel",
          "model_module_version": "1.2.0",
          "state": {
            "_model_module": "@jupyter-widgets/base",
            "_model_module_version": "1.2.0",
            "_model_name": "LayoutModel",
            "_view_count": null,
            "_view_module": "@jupyter-widgets/base",
            "_view_module_version": "1.2.0",
            "_view_name": "LayoutView",
            "align_content": null,
            "align_items": null,
            "align_self": null,
            "border": null,
            "bottom": null,
            "display": null,
            "flex": null,
            "flex_flow": null,
            "grid_area": null,
            "grid_auto_columns": null,
            "grid_auto_flow": null,
            "grid_auto_rows": null,
            "grid_column": null,
            "grid_gap": null,
            "grid_row": null,
            "grid_template_areas": null,
            "grid_template_columns": null,
            "grid_template_rows": null,
            "height": null,
            "justify_content": null,
            "justify_items": null,
            "left": null,
            "margin": null,
            "max_height": null,
            "max_width": null,
            "min_height": null,
            "min_width": null,
            "object_fit": null,
            "object_position": null,
            "order": null,
            "overflow": null,
            "overflow_x": null,
            "overflow_y": null,
            "padding": null,
            "right": null,
            "top": null,
            "visibility": null,
            "width": null
          }
        },
        "d056f6c8a2a44271aa03fda0fe437b62": {
          "model_module": "@jupyter-widgets/controls",
          "model_name": "DescriptionStyleModel",
          "model_module_version": "1.5.0",
          "state": {
            "_model_module": "@jupyter-widgets/controls",
            "_model_module_version": "1.5.0",
            "_model_name": "DescriptionStyleModel",
            "_view_count": null,
            "_view_module": "@jupyter-widgets/base",
            "_view_module_version": "1.2.0",
            "_view_name": "StyleView",
            "description_width": ""
          }
        },
        "7d7b9cb9143e4f8a99cdd4fb1a8aa633": {
          "model_module": "@jupyter-widgets/base",
          "model_name": "LayoutModel",
          "model_module_version": "1.2.0",
          "state": {
            "_model_module": "@jupyter-widgets/base",
            "_model_module_version": "1.2.0",
            "_model_name": "LayoutModel",
            "_view_count": null,
            "_view_module": "@jupyter-widgets/base",
            "_view_module_version": "1.2.0",
            "_view_name": "LayoutView",
            "align_content": null,
            "align_items": null,
            "align_self": null,
            "border": null,
            "bottom": null,
            "display": null,
            "flex": null,
            "flex_flow": null,
            "grid_area": null,
            "grid_auto_columns": null,
            "grid_auto_flow": null,
            "grid_auto_rows": null,
            "grid_column": null,
            "grid_gap": null,
            "grid_row": null,
            "grid_template_areas": null,
            "grid_template_columns": null,
            "grid_template_rows": null,
            "height": null,
            "justify_content": null,
            "justify_items": null,
            "left": null,
            "margin": null,
            "max_height": null,
            "max_width": null,
            "min_height": null,
            "min_width": null,
            "object_fit": null,
            "object_position": null,
            "order": null,
            "overflow": null,
            "overflow_x": null,
            "overflow_y": null,
            "padding": null,
            "right": null,
            "top": null,
            "visibility": null,
            "width": null
          }
        },
        "3be75c1ff2574575a1a5f686e8a39a73": {
          "model_module": "@jupyter-widgets/controls",
          "model_name": "ProgressStyleModel",
          "model_module_version": "1.5.0",
          "state": {
            "_model_module": "@jupyter-widgets/controls",
            "_model_module_version": "1.5.0",
            "_model_name": "ProgressStyleModel",
            "_view_count": null,
            "_view_module": "@jupyter-widgets/base",
            "_view_module_version": "1.2.0",
            "_view_name": "StyleView",
            "bar_color": null,
            "description_width": ""
          }
        },
        "b6900c3dd3fa4d5e8a71720e6c16b4c7": {
          "model_module": "@jupyter-widgets/base",
          "model_name": "LayoutModel",
          "model_module_version": "1.2.0",
          "state": {
            "_model_module": "@jupyter-widgets/base",
            "_model_module_version": "1.2.0",
            "_model_name": "LayoutModel",
            "_view_count": null,
            "_view_module": "@jupyter-widgets/base",
            "_view_module_version": "1.2.0",
            "_view_name": "LayoutView",
            "align_content": null,
            "align_items": null,
            "align_self": null,
            "border": null,
            "bottom": null,
            "display": null,
            "flex": null,
            "flex_flow": null,
            "grid_area": null,
            "grid_auto_columns": null,
            "grid_auto_flow": null,
            "grid_auto_rows": null,
            "grid_column": null,
            "grid_gap": null,
            "grid_row": null,
            "grid_template_areas": null,
            "grid_template_columns": null,
            "grid_template_rows": null,
            "height": null,
            "justify_content": null,
            "justify_items": null,
            "left": null,
            "margin": null,
            "max_height": null,
            "max_width": null,
            "min_height": null,
            "min_width": null,
            "object_fit": null,
            "object_position": null,
            "order": null,
            "overflow": null,
            "overflow_x": null,
            "overflow_y": null,
            "padding": null,
            "right": null,
            "top": null,
            "visibility": null,
            "width": null
          }
        },
        "e4def72f258b42dc851d91b82e31469a": {
          "model_module": "@jupyter-widgets/controls",
          "model_name": "DescriptionStyleModel",
          "model_module_version": "1.5.0",
          "state": {
            "_model_module": "@jupyter-widgets/controls",
            "_model_module_version": "1.5.0",
            "_model_name": "DescriptionStyleModel",
            "_view_count": null,
            "_view_module": "@jupyter-widgets/base",
            "_view_module_version": "1.2.0",
            "_view_name": "StyleView",
            "description_width": ""
          }
        }
      }
    }
  },
  "nbformat": 4,
  "nbformat_minor": 0
}